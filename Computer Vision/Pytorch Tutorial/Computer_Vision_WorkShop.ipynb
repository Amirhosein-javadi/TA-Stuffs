{
  "nbformat": 4,
  "nbformat_minor": 0,
  "metadata": {
    "colab": {
      "name": "Computer-Vision-WorkShop.ipynb",
      "provenance": [],
      "collapsed_sections": []
    },
    "kernelspec": {
      "name": "python3",
      "display_name": "Python 3"
    },
    "language_info": {
      "name": "python"
    },
    "widgets": {
      "application/vnd.jupyter.widget-state+json": {
        "3f77eb0aa1104d98be8f87296bf6bbe1": {
          "model_module": "@jupyter-widgets/controls",
          "model_name": "HBoxModel",
          "model_module_version": "1.5.0",
          "state": {
            "_dom_classes": [],
            "_model_module": "@jupyter-widgets/controls",
            "_model_module_version": "1.5.0",
            "_model_name": "HBoxModel",
            "_view_count": null,
            "_view_module": "@jupyter-widgets/controls",
            "_view_module_version": "1.5.0",
            "_view_name": "HBoxView",
            "box_style": "",
            "children": [
              "IPY_MODEL_e9b6ae9657cb41908a071d1fe0ea65d0",
              "IPY_MODEL_4ebbdfaf2fc6425ca6bb37c503ce4aa1",
              "IPY_MODEL_16a8ac73c80d456fac2fc74c7e53eb49"
            ],
            "layout": "IPY_MODEL_4b88c7574b1c45b886d423bda8fe953b"
          }
        },
        "e9b6ae9657cb41908a071d1fe0ea65d0": {
          "model_module": "@jupyter-widgets/controls",
          "model_name": "HTMLModel",
          "model_module_version": "1.5.0",
          "state": {
            "_dom_classes": [],
            "_model_module": "@jupyter-widgets/controls",
            "_model_module_version": "1.5.0",
            "_model_name": "HTMLModel",
            "_view_count": null,
            "_view_module": "@jupyter-widgets/controls",
            "_view_module_version": "1.5.0",
            "_view_name": "HTMLView",
            "description": "",
            "description_tooltip": null,
            "layout": "IPY_MODEL_595ae93f50414fdab87a4e06dfca92fe",
            "placeholder": "​",
            "style": "IPY_MODEL_1a93f86c61584f90b461514b2377a493",
            "value": ""
          }
        },
        "4ebbdfaf2fc6425ca6bb37c503ce4aa1": {
          "model_module": "@jupyter-widgets/controls",
          "model_name": "FloatProgressModel",
          "model_module_version": "1.5.0",
          "state": {
            "_dom_classes": [],
            "_model_module": "@jupyter-widgets/controls",
            "_model_module_version": "1.5.0",
            "_model_name": "FloatProgressModel",
            "_view_count": null,
            "_view_module": "@jupyter-widgets/controls",
            "_view_module_version": "1.5.0",
            "_view_name": "ProgressView",
            "bar_style": "success",
            "description": "",
            "description_tooltip": null,
            "layout": "IPY_MODEL_432a7c1bc03641a49381caffd7cd20eb",
            "max": 170498071,
            "min": 0,
            "orientation": "horizontal",
            "style": "IPY_MODEL_b4257d25cd654e7699f61aeb99f4d773",
            "value": 170498071
          }
        },
        "16a8ac73c80d456fac2fc74c7e53eb49": {
          "model_module": "@jupyter-widgets/controls",
          "model_name": "HTMLModel",
          "model_module_version": "1.5.0",
          "state": {
            "_dom_classes": [],
            "_model_module": "@jupyter-widgets/controls",
            "_model_module_version": "1.5.0",
            "_model_name": "HTMLModel",
            "_view_count": null,
            "_view_module": "@jupyter-widgets/controls",
            "_view_module_version": "1.5.0",
            "_view_name": "HTMLView",
            "description": "",
            "description_tooltip": null,
            "layout": "IPY_MODEL_b6cdfb5585b34b7087bbfdae1cd009ff",
            "placeholder": "​",
            "style": "IPY_MODEL_80be64a14ed34540a810864055d3bd67",
            "value": " 170499072/? [00:03&lt;00:00, 47891845.92it/s]"
          }
        },
        "4b88c7574b1c45b886d423bda8fe953b": {
          "model_module": "@jupyter-widgets/base",
          "model_name": "LayoutModel",
          "model_module_version": "1.2.0",
          "state": {
            "_model_module": "@jupyter-widgets/base",
            "_model_module_version": "1.2.0",
            "_model_name": "LayoutModel",
            "_view_count": null,
            "_view_module": "@jupyter-widgets/base",
            "_view_module_version": "1.2.0",
            "_view_name": "LayoutView",
            "align_content": null,
            "align_items": null,
            "align_self": null,
            "border": null,
            "bottom": null,
            "display": null,
            "flex": null,
            "flex_flow": null,
            "grid_area": null,
            "grid_auto_columns": null,
            "grid_auto_flow": null,
            "grid_auto_rows": null,
            "grid_column": null,
            "grid_gap": null,
            "grid_row": null,
            "grid_template_areas": null,
            "grid_template_columns": null,
            "grid_template_rows": null,
            "height": null,
            "justify_content": null,
            "justify_items": null,
            "left": null,
            "margin": null,
            "max_height": null,
            "max_width": null,
            "min_height": null,
            "min_width": null,
            "object_fit": null,
            "object_position": null,
            "order": null,
            "overflow": null,
            "overflow_x": null,
            "overflow_y": null,
            "padding": null,
            "right": null,
            "top": null,
            "visibility": null,
            "width": null
          }
        },
        "595ae93f50414fdab87a4e06dfca92fe": {
          "model_module": "@jupyter-widgets/base",
          "model_name": "LayoutModel",
          "model_module_version": "1.2.0",
          "state": {
            "_model_module": "@jupyter-widgets/base",
            "_model_module_version": "1.2.0",
            "_model_name": "LayoutModel",
            "_view_count": null,
            "_view_module": "@jupyter-widgets/base",
            "_view_module_version": "1.2.0",
            "_view_name": "LayoutView",
            "align_content": null,
            "align_items": null,
            "align_self": null,
            "border": null,
            "bottom": null,
            "display": null,
            "flex": null,
            "flex_flow": null,
            "grid_area": null,
            "grid_auto_columns": null,
            "grid_auto_flow": null,
            "grid_auto_rows": null,
            "grid_column": null,
            "grid_gap": null,
            "grid_row": null,
            "grid_template_areas": null,
            "grid_template_columns": null,
            "grid_template_rows": null,
            "height": null,
            "justify_content": null,
            "justify_items": null,
            "left": null,
            "margin": null,
            "max_height": null,
            "max_width": null,
            "min_height": null,
            "min_width": null,
            "object_fit": null,
            "object_position": null,
            "order": null,
            "overflow": null,
            "overflow_x": null,
            "overflow_y": null,
            "padding": null,
            "right": null,
            "top": null,
            "visibility": null,
            "width": null
          }
        },
        "1a93f86c61584f90b461514b2377a493": {
          "model_module": "@jupyter-widgets/controls",
          "model_name": "DescriptionStyleModel",
          "model_module_version": "1.5.0",
          "state": {
            "_model_module": "@jupyter-widgets/controls",
            "_model_module_version": "1.5.0",
            "_model_name": "DescriptionStyleModel",
            "_view_count": null,
            "_view_module": "@jupyter-widgets/base",
            "_view_module_version": "1.2.0",
            "_view_name": "StyleView",
            "description_width": ""
          }
        },
        "432a7c1bc03641a49381caffd7cd20eb": {
          "model_module": "@jupyter-widgets/base",
          "model_name": "LayoutModel",
          "model_module_version": "1.2.0",
          "state": {
            "_model_module": "@jupyter-widgets/base",
            "_model_module_version": "1.2.0",
            "_model_name": "LayoutModel",
            "_view_count": null,
            "_view_module": "@jupyter-widgets/base",
            "_view_module_version": "1.2.0",
            "_view_name": "LayoutView",
            "align_content": null,
            "align_items": null,
            "align_self": null,
            "border": null,
            "bottom": null,
            "display": null,
            "flex": null,
            "flex_flow": null,
            "grid_area": null,
            "grid_auto_columns": null,
            "grid_auto_flow": null,
            "grid_auto_rows": null,
            "grid_column": null,
            "grid_gap": null,
            "grid_row": null,
            "grid_template_areas": null,
            "grid_template_columns": null,
            "grid_template_rows": null,
            "height": null,
            "justify_content": null,
            "justify_items": null,
            "left": null,
            "margin": null,
            "max_height": null,
            "max_width": null,
            "min_height": null,
            "min_width": null,
            "object_fit": null,
            "object_position": null,
            "order": null,
            "overflow": null,
            "overflow_x": null,
            "overflow_y": null,
            "padding": null,
            "right": null,
            "top": null,
            "visibility": null,
            "width": null
          }
        },
        "b4257d25cd654e7699f61aeb99f4d773": {
          "model_module": "@jupyter-widgets/controls",
          "model_name": "ProgressStyleModel",
          "model_module_version": "1.5.0",
          "state": {
            "_model_module": "@jupyter-widgets/controls",
            "_model_module_version": "1.5.0",
            "_model_name": "ProgressStyleModel",
            "_view_count": null,
            "_view_module": "@jupyter-widgets/base",
            "_view_module_version": "1.2.0",
            "_view_name": "StyleView",
            "bar_color": null,
            "description_width": ""
          }
        },
        "b6cdfb5585b34b7087bbfdae1cd009ff": {
          "model_module": "@jupyter-widgets/base",
          "model_name": "LayoutModel",
          "model_module_version": "1.2.0",
          "state": {
            "_model_module": "@jupyter-widgets/base",
            "_model_module_version": "1.2.0",
            "_model_name": "LayoutModel",
            "_view_count": null,
            "_view_module": "@jupyter-widgets/base",
            "_view_module_version": "1.2.0",
            "_view_name": "LayoutView",
            "align_content": null,
            "align_items": null,
            "align_self": null,
            "border": null,
            "bottom": null,
            "display": null,
            "flex": null,
            "flex_flow": null,
            "grid_area": null,
            "grid_auto_columns": null,
            "grid_auto_flow": null,
            "grid_auto_rows": null,
            "grid_column": null,
            "grid_gap": null,
            "grid_row": null,
            "grid_template_areas": null,
            "grid_template_columns": null,
            "grid_template_rows": null,
            "height": null,
            "justify_content": null,
            "justify_items": null,
            "left": null,
            "margin": null,
            "max_height": null,
            "max_width": null,
            "min_height": null,
            "min_width": null,
            "object_fit": null,
            "object_position": null,
            "order": null,
            "overflow": null,
            "overflow_x": null,
            "overflow_y": null,
            "padding": null,
            "right": null,
            "top": null,
            "visibility": null,
            "width": null
          }
        },
        "80be64a14ed34540a810864055d3bd67": {
          "model_module": "@jupyter-widgets/controls",
          "model_name": "DescriptionStyleModel",
          "model_module_version": "1.5.0",
          "state": {
            "_model_module": "@jupyter-widgets/controls",
            "_model_module_version": "1.5.0",
            "_model_name": "DescriptionStyleModel",
            "_view_count": null,
            "_view_module": "@jupyter-widgets/base",
            "_view_module_version": "1.2.0",
            "_view_name": "StyleView",
            "description_width": ""
          }
        }
      }
    }
  },
  "cells": [
    {
      "cell_type": "markdown",
      "source": [
        "# Importing "
      ],
      "metadata": {
        "id": "1u7EgcCUgR7d"
      }
    },
    {
      "cell_type": "code",
      "execution_count": null,
      "metadata": {
        "id": "x40ykd56CPP0"
      },
      "outputs": [],
      "source": [
        "# General packages\n",
        "import os\n",
        "import glob\n",
        "import pickle\n",
        "import random\n",
        "import matplotlib.pyplot as plt\n",
        "import numpy as np\n",
        "import tqdm\n",
        "from time import time\n",
        "# %matplotlib inline\n",
        "\n",
        "# Sklearn packages\n",
        "from sklearn.model_selection import KFold\n",
        "from sklearn.model_selection import train_test_split\n",
        "\n",
        "# Torch \n",
        "import torch\n",
        "import torchvision\n",
        "import torch.nn as nn\n",
        "from torch.utils import data\n",
        "from torchvision import transforms\n",
        "import torch.nn.functional as F\n",
        "from torch.utils.data import Dataset, DataLoader\n",
        "from torch.autograd import Variable"
      ]
    },
    {
      "cell_type": "markdown",
      "source": [
        "# Tensor"
      ],
      "metadata": {
        "id": "DSyS8b4oh7CU"
      }
    },
    {
      "cell_type": "code",
      "source": [
        "# Creating a tensor\n",
        "myTensor = torch.tensor([1, 2.5, -3, 4])\n",
        "myTensor"
      ],
      "metadata": {
        "colab": {
          "base_uri": "https://localhost:8080/"
        },
        "id": "tnmDu37uhrmm",
        "outputId": "ffbe51e8-e8d9-4a58-9d6f-ced3d79a48ad"
      },
      "execution_count": null,
      "outputs": [
        {
          "output_type": "execute_result",
          "data": {
            "text/plain": [
              "tensor([ 1.0000,  2.5000, -3.0000,  4.0000])"
            ]
          },
          "metadata": {},
          "execution_count": 3
        }
      ]
    },
    {
      "cell_type": "code",
      "source": [
        "# Tensor --> Numpy\n",
        "myTensor.numpy()"
      ],
      "metadata": {
        "colab": {
          "base_uri": "https://localhost:8080/"
        },
        "id": "07dUVlLJik2P",
        "outputId": "c50a8366-68bd-4781-94ca-a79a62a597c5"
      },
      "execution_count": null,
      "outputs": [
        {
          "output_type": "execute_result",
          "data": {
            "text/plain": [
              "array([ 1. ,  2.5, -3. ,  4. ], dtype=float32)"
            ]
          },
          "metadata": {},
          "execution_count": 4
        }
      ]
    },
    {
      "cell_type": "code",
      "source": [
        "# Numpy --> Tensor\n",
        "myArr = np.array([1.1, 2, 3.6])\n",
        "myTensor = torch.from_numpy(myArr)\n",
        "myTensor"
      ],
      "metadata": {
        "colab": {
          "base_uri": "https://localhost:8080/"
        },
        "id": "G8JIKHBKjTjc",
        "outputId": "0c089620-1ccc-42f9-86c5-9ce70cea62de"
      },
      "execution_count": null,
      "outputs": [
        {
          "output_type": "execute_result",
          "data": {
            "text/plain": [
              "tensor([1.1000, 2.0000, 3.6000], dtype=torch.float64)"
            ]
          },
          "metadata": {},
          "execution_count": 5
        }
      ]
    },
    {
      "cell_type": "code",
      "source": [
        "# Changging tensor's dtype\n",
        "myTensor.int()"
      ],
      "metadata": {
        "colab": {
          "base_uri": "https://localhost:8080/"
        },
        "id": "V7UwFeq6iy_H",
        "outputId": "3902b081-b9cf-465f-972b-1bf6462ee521"
      },
      "execution_count": null,
      "outputs": [
        {
          "output_type": "execute_result",
          "data": {
            "text/plain": [
              "tensor([1, 2, 3], dtype=torch.int32)"
            ]
          },
          "metadata": {},
          "execution_count": 6
        }
      ]
    },
    {
      "cell_type": "code",
      "source": [
        "myTensor.to(dtype=torch.int64)"
      ],
      "metadata": {
        "colab": {
          "base_uri": "https://localhost:8080/"
        },
        "id": "h4TJIZ8DjKR0",
        "outputId": "bad14a33-77c4-4f16-9716-289d7e688b58"
      },
      "execution_count": null,
      "outputs": [
        {
          "output_type": "execute_result",
          "data": {
            "text/plain": [
              "tensor([1, 2, 3])"
            ]
          },
          "metadata": {},
          "execution_count": 7
        }
      ]
    },
    {
      "cell_type": "markdown",
      "source": [
        "# Device\n",
        "\n",
        "\n",
        "\n",
        "*   CPU\n",
        "*   Cuda\n",
        "\n"
      ],
      "metadata": {
        "id": "Dd_pGLaMgTR1"
      }
    },
    {
      "cell_type": "code",
      "source": [
        "device = torch.device('cuda' if torch.cuda.is_available() else 'cpu')\n",
        "device"
      ],
      "metadata": {
        "colab": {
          "base_uri": "https://localhost:8080/"
        },
        "id": "d10BVqtxgWmM",
        "outputId": "70cf8b58-6b51-4284-ba31-dfdd2d5228d7"
      },
      "execution_count": null,
      "outputs": [
        {
          "output_type": "execute_result",
          "data": {
            "text/plain": [
              "device(type='cpu')"
            ]
          },
          "metadata": {},
          "execution_count": 8
        }
      ]
    },
    {
      "cell_type": "code",
      "source": [
        "myTensor = myTensor.to(device)\n",
        "myTensor.device"
      ],
      "metadata": {
        "colab": {
          "base_uri": "https://localhost:8080/"
        },
        "id": "i1q4WQXMkPEN",
        "outputId": "61dc4cd0-3640-4829-81c9-034fcb4111fc"
      },
      "execution_count": null,
      "outputs": [
        {
          "output_type": "execute_result",
          "data": {
            "text/plain": [
              "device(type='cpu')"
            ]
          },
          "metadata": {},
          "execution_count": 13
        }
      ]
    },
    {
      "cell_type": "markdown",
      "source": [
        "# Neural Network Modules"
      ],
      "metadata": {
        "id": "z9fs67k6lbr2"
      }
    },
    {
      "cell_type": "code",
      "source": [
        "# The batch size defines the number of samples that will be propagated through the network.\n",
        "batchSize = 10"
      ],
      "metadata": {
        "id": "hQiOmBIili69"
      },
      "execution_count": null,
      "outputs": []
    },
    {
      "cell_type": "markdown",
      "source": [
        "## Linear layers\n",
        "\n",
        "\n",
        "### Parameters\n",
        "\n",
        "*   in_features – size of each input sample\n",
        "*   out_features – size of each output sample\n",
        "*    bias – If set to False, the layer will not learn an additive bias. Default: True\n",
        "\n",
        "$$ y= x A^T + b $$"
      ],
      "metadata": {
        "id": "dgHJCfyVm_cF"
      }
    },
    {
      "cell_type": "code",
      "source": [
        "M = nn.Linear(16, 32)\n",
        "M"
      ],
      "metadata": {
        "colab": {
          "base_uri": "https://localhost:8080/"
        },
        "id": "CjAnGxqXmOJ1",
        "outputId": "7a08339b-c0d1-4d7d-aea1-765f19d7752d"
      },
      "execution_count": null,
      "outputs": [
        {
          "output_type": "execute_result",
          "data": {
            "text/plain": [
              "Linear(in_features=16, out_features=32, bias=True)"
            ]
          },
          "metadata": {},
          "execution_count": 15
        }
      ]
    },
    {
      "cell_type": "code",
      "source": [
        "x = torch.randn(batchSize, 16)\n",
        "# x\n",
        "print(x.shape)\n",
        "y = M(x)\n",
        "print(y.shape)"
      ],
      "metadata": {
        "colab": {
          "base_uri": "https://localhost:8080/"
        },
        "id": "xR5_Q_9lmVnV",
        "outputId": "a46d7db8-6268-4a8b-fd1b-197338e2dbac"
      },
      "execution_count": null,
      "outputs": [
        {
          "output_type": "stream",
          "name": "stdout",
          "text": [
            "torch.Size([10, 16])\n",
            "torch.Size([10, 32])\n"
          ]
        }
      ]
    },
    {
      "cell_type": "markdown",
      "source": [
        "## Identity layers\n",
        "\n",
        "A placeholder identity operator that is argument-insensitive."
      ],
      "metadata": {
        "id": "98bHl-7HnDyd"
      }
    },
    {
      "cell_type": "code",
      "source": [
        "M = nn.Identity()\n",
        "M"
      ],
      "metadata": {
        "colab": {
          "base_uri": "https://localhost:8080/"
        },
        "id": "Sig5Dl-rm1LP",
        "outputId": "554a642e-cee0-4dfc-8d42-2ed7e723712a"
      },
      "execution_count": null,
      "outputs": [
        {
          "output_type": "execute_result",
          "data": {
            "text/plain": [
              "Identity()"
            ]
          },
          "metadata": {},
          "execution_count": 17
        }
      ]
    },
    {
      "cell_type": "code",
      "source": [
        "y = M(x)\n",
        "(y == x).all()"
      ],
      "metadata": {
        "colab": {
          "base_uri": "https://localhost:8080/"
        },
        "id": "tm9AY19Jm8S9",
        "outputId": "43a82d46-61c9-42b8-8703-0f9aa78ea7be"
      },
      "execution_count": null,
      "outputs": [
        {
          "output_type": "execute_result",
          "data": {
            "text/plain": [
              "tensor(True)"
            ]
          },
          "metadata": {},
          "execution_count": 18
        }
      ]
    },
    {
      "cell_type": "markdown",
      "source": [
        "## Convolution layers\n",
        "\n",
        "Applies a 2D convolution over an input signal composed of several input planes.\n",
        "\n",
        "### Parameters\n",
        "\n",
        "* in_channels (int) – Number of channels in the input image\n",
        "* out_channels (int) – Number of channels produced by the convolution\n",
        "* kernel_size (int or tuple) – Size of the convolving kernel\n",
        "* stride (int or tuple, optional) – Stride of the convolution. Default: 1\n",
        "* padding (int, tuple or str, optional) – Padding added to all four sides of the input. Default: 0\n",
        "* padding_mode (string, optional) – 'zeros', 'reflect', 'replicate' or 'circular'. Default: 'zeros'\n",
        "* dilation (int or tuple, optional) – Spacing between kernel elements. Default: 1\n",
        "* groups (int, optional) – Number of blocked connections from input channels to output channels. Default: 1\n",
        "* bias (bool, optional) – If True, adds a learnable bias to the output. Default: True\n",
        "\n",
        "[Link for more](https://pytorch.org/docs/stable/generated/torch.nn.Conv2d.html)"
      ],
      "metadata": {
        "id": "lOx0zWdrnGi-"
      }
    },
    {
      "cell_type": "code",
      "source": [
        "M = nn.Conv2d(16, 32, 3, stride=2, padding=1)\n",
        "M"
      ],
      "metadata": {
        "colab": {
          "base_uri": "https://localhost:8080/"
        },
        "id": "DA7Q1GlSnSFP",
        "outputId": "a3987744-ce18-4633-a102-d3dec7d96f29"
      },
      "execution_count": null,
      "outputs": [
        {
          "output_type": "execute_result",
          "data": {
            "text/plain": [
              "Conv2d(16, 32, kernel_size=(3, 3), stride=(2, 2), padding=(1, 1))"
            ]
          },
          "metadata": {},
          "execution_count": 19
        }
      ]
    },
    {
      "cell_type": "markdown",
      "source": [
        "$$ H_{out} = ⌊\\frac{H_{in} + 2 × padding[0] - dilation[0] × (kernel[0]-1) - 1}{stride[0]} ⌋ + 1 $$\n",
        "\n",
        "$$ W_{out} = ⌊\\frac{W_{in} + 2 × padding[1] - dilation[1] × (kernel[1]-1) - 1}{stride[1]} ⌋ + 1 $$"
      ],
      "metadata": {
        "id": "2jjMjFA9oU4S"
      }
    },
    {
      "cell_type": "code",
      "source": [
        "x = torch.randn(batchSize, 16, 256, 256)\n",
        "y = M(x)\n",
        "y.shape"
      ],
      "metadata": {
        "colab": {
          "base_uri": "https://localhost:8080/"
        },
        "id": "qW3pMoLyoIan",
        "outputId": "5384edef-282c-4c9b-f5bc-123dce94fb01"
      },
      "execution_count": null,
      "outputs": [
        {
          "output_type": "execute_result",
          "data": {
            "text/plain": [
              "torch.Size([10, 32, 128, 128])"
            ]
          },
          "metadata": {},
          "execution_count": 20
        }
      ]
    },
    {
      "cell_type": "markdown",
      "source": [
        "# Activation layers\n",
        "\n",
        "The most important feature in an activation function is its ability to add non-linearity into a neural network. \n",
        "\n",
        "* Activation for Hidden Layers:\n",
        "  1.   Rectified Linear Activation (ReLU)\n",
        "  2. Logistic (Sigmoid)\n",
        "  3. Hyperbolic Tangent (Tanh)\n",
        "\n",
        "* Activation for Output Layers\n",
        "  1. Linear\n",
        "  2. Logistic (Sigmoid)\n",
        "  3. Softmax\n",
        "\n",
        "\n",
        "[Link for more](https://machinelearningmastery.com/choose-an-activation-function-for-deep-learning/#:~:text=Activation%20functions%20are%20a%20critical,predictions%20the%20model%20can%20make.)\n",
        "\n",
        "\n",
        "\n"
      ],
      "metadata": {
        "id": "Et3-z9ygyLTc"
      }
    },
    {
      "cell_type": "markdown",
      "source": [
        "## ReLU\n",
        "\n",
        "$$ y = max(0,x) $$ "
      ],
      "metadata": {
        "id": "91seJ57xymVD"
      }
    },
    {
      "cell_type": "code",
      "source": [
        "M = nn.ReLU()\n",
        "M"
      ],
      "metadata": {
        "colab": {
          "base_uri": "https://localhost:8080/"
        },
        "id": "AiG-JSE2yMX6",
        "outputId": "a3c1bdae-3f8c-4376-e1a6-818c77b037fc"
      },
      "execution_count": null,
      "outputs": [
        {
          "output_type": "execute_result",
          "data": {
            "text/plain": [
              "ReLU()"
            ]
          },
          "metadata": {},
          "execution_count": 21
        }
      ]
    },
    {
      "cell_type": "code",
      "source": [
        "x = torch.tensor([1, 2.5, -3, 4])\n",
        "y = M(x)\n",
        "y"
      ],
      "metadata": {
        "colab": {
          "base_uri": "https://localhost:8080/"
        },
        "id": "fFyAdsfHyPnk",
        "outputId": "1107b0d3-279a-4486-cb6d-8ec50461cdbb"
      },
      "execution_count": null,
      "outputs": [
        {
          "output_type": "execute_result",
          "data": {
            "text/plain": [
              "tensor([1.0000, 2.5000, 0.0000, 4.0000])"
            ]
          },
          "metadata": {},
          "execution_count": 22
        }
      ]
    },
    {
      "cell_type": "markdown",
      "source": [
        "## Sigmoid\n",
        "\n",
        "$$ y = \\frac{1}{1+e^{-x}} $$"
      ],
      "metadata": {
        "id": "_nKtbRgRyo3x"
      }
    },
    {
      "cell_type": "code",
      "source": [
        "M = nn.Sigmoid()\n",
        "M"
      ],
      "metadata": {
        "id": "rxwq6-7xysXD",
        "colab": {
          "base_uri": "https://localhost:8080/"
        },
        "outputId": "9ea03dda-9a1d-4b82-d6fa-52f1dd9150b0"
      },
      "execution_count": null,
      "outputs": [
        {
          "output_type": "execute_result",
          "data": {
            "text/plain": [
              "Sigmoid()"
            ]
          },
          "metadata": {},
          "execution_count": 23
        }
      ]
    },
    {
      "cell_type": "code",
      "source": [
        "x = torch.tensor([1, 2.5, -3, 4])\n",
        "y = M(x)\n",
        "y"
      ],
      "metadata": {
        "colab": {
          "base_uri": "https://localhost:8080/"
        },
        "id": "-VWOpauMTHlb",
        "outputId": "52dfc0ca-2ee3-479c-e675-71832903931b"
      },
      "execution_count": null,
      "outputs": [
        {
          "output_type": "execute_result",
          "data": {
            "text/plain": [
              "tensor([0.7311, 0.9241, 0.0474, 0.9820])"
            ]
          },
          "metadata": {},
          "execution_count": 24
        }
      ]
    },
    {
      "cell_type": "markdown",
      "source": [
        "# Softmax\n",
        "\n",
        "$$ σ(z)_{i} = \\frac{e^{z_i}}{Σ_{j=1}^{K} e^{z_j}} $$"
      ],
      "metadata": {
        "id": "NWYx-OeTTxBh"
      }
    },
    {
      "cell_type": "code",
      "source": [
        "M = nn.Softmax(dim=-1)\n",
        "M"
      ],
      "metadata": {
        "colab": {
          "base_uri": "https://localhost:8080/"
        },
        "id": "ljMwj1fITwRZ",
        "outputId": "6329fc5d-3ab9-4d32-e29b-b87e80f4ae84"
      },
      "execution_count": null,
      "outputs": [
        {
          "output_type": "execute_result",
          "data": {
            "text/plain": [
              "Softmax(dim=-1)"
            ]
          },
          "metadata": {},
          "execution_count": 25
        }
      ]
    },
    {
      "cell_type": "code",
      "source": [
        "x = torch.tensor([1, 2.5, -3, 4])\n",
        "y = M(x)\n",
        "y"
      ],
      "metadata": {
        "colab": {
          "base_uri": "https://localhost:8080/"
        },
        "id": "PN02QHGzVhoz",
        "outputId": "79150dce-a5d5-467f-e2c7-0326a586756f"
      },
      "execution_count": null,
      "outputs": [
        {
          "output_type": "execute_result",
          "data": {
            "text/plain": [
              "tensor([3.9085e-02, 1.7516e-01, 7.1586e-04, 7.8503e-01])"
            ]
          },
          "metadata": {},
          "execution_count": 26
        }
      ]
    },
    {
      "cell_type": "markdown",
      "source": [
        "## Tanh\n",
        "\n",
        "$$ Tanh(x)= \\frac{e^x-e^{-x}}{e^x+e^{-x}} $$"
      ],
      "metadata": {
        "id": "r_m5b8OIXOM1"
      }
    },
    {
      "cell_type": "code",
      "source": [
        "M = nn.Tanh()\n",
        "M"
      ],
      "metadata": {
        "colab": {
          "base_uri": "https://localhost:8080/"
        },
        "id": "9NGUCfazXO2m",
        "outputId": "2e60da0e-34e6-4ed0-f8cf-a87dc9392602"
      },
      "execution_count": null,
      "outputs": [
        {
          "output_type": "execute_result",
          "data": {
            "text/plain": [
              "Tanh()"
            ]
          },
          "metadata": {},
          "execution_count": 27
        }
      ]
    },
    {
      "cell_type": "code",
      "source": [
        "x = torch.tensor([1, 2.5, -3, 4])\n",
        "y = M(x)\n",
        "y"
      ],
      "metadata": {
        "colab": {
          "base_uri": "https://localhost:8080/"
        },
        "id": "_qUhwIExXZsT",
        "outputId": "1e0bba99-0526-4b1a-d567-68743ad5345b"
      },
      "execution_count": null,
      "outputs": [
        {
          "output_type": "execute_result",
          "data": {
            "text/plain": [
              "tensor([ 0.7616,  0.9866, -0.9951,  0.9993])"
            ]
          },
          "metadata": {},
          "execution_count": 28
        }
      ]
    },
    {
      "cell_type": "markdown",
      "source": [
        "# Pooling layers\n",
        "\n",
        "A pooling layer is a new layer added after the convolutional layer. Specifically, after a nonlinearity (e.g. ReLU) has been applied to the feature maps output by a convolutional layer. \n",
        "\n",
        "Its function is to progressively reduce the spatial size of the representation to reduce the amount of parameters and computation in the network.\n",
        "\n",
        "[Link for more](https://pytorch.org/docs/stable/nn.html#pooling-layers)"
      ],
      "metadata": {
        "id": "sjF_t8xNX088"
      }
    },
    {
      "cell_type": "markdown",
      "source": [
        "## Max Pooling\n",
        "\n",
        "Calculate the maximum value for each patch of the feature map."
      ],
      "metadata": {
        "id": "1MFlFJAaYhiV"
      }
    },
    {
      "cell_type": "code",
      "source": [
        "M = nn.MaxPool2d(2, 2)\n",
        "M"
      ],
      "metadata": {
        "colab": {
          "base_uri": "https://localhost:8080/"
        },
        "id": "Pi7YTzBHYRi0",
        "outputId": "f023f9eb-6278-4221-91ba-de327c9c2181"
      },
      "execution_count": null,
      "outputs": [
        {
          "output_type": "execute_result",
          "data": {
            "text/plain": [
              "MaxPool2d(kernel_size=2, stride=2, padding=0, dilation=1, ceil_mode=False)"
            ]
          },
          "metadata": {},
          "execution_count": 29
        }
      ]
    },
    {
      "cell_type": "code",
      "source": [
        "x = torch.randn(batchSize, 16, 128, 128)\n",
        "y = M(x)\n",
        "y.shape"
      ],
      "metadata": {
        "colab": {
          "base_uri": "https://localhost:8080/"
        },
        "id": "2suA62f4YIrO",
        "outputId": "c32474a4-ff8b-44f5-e5a2-648c7c0ac788"
      },
      "execution_count": null,
      "outputs": [
        {
          "output_type": "execute_result",
          "data": {
            "text/plain": [
              "torch.Size([10, 16, 64, 64])"
            ]
          },
          "metadata": {},
          "execution_count": 30
        }
      ]
    },
    {
      "cell_type": "markdown",
      "source": [
        "## Average Pooling\n",
        "\n",
        "Calculate the average value for each patch on the feature map."
      ],
      "metadata": {
        "id": "PcXHPhR8Y7Bm"
      }
    },
    {
      "cell_type": "code",
      "source": [
        "M = nn.AvgPool2d(2, 2)\n",
        "M"
      ],
      "metadata": {
        "colab": {
          "base_uri": "https://localhost:8080/"
        },
        "id": "DP3kgiz7ZA9r",
        "outputId": "ae943d2b-da80-4b57-a89c-94cb7432f353"
      },
      "execution_count": null,
      "outputs": [
        {
          "output_type": "execute_result",
          "data": {
            "text/plain": [
              "AvgPool2d(kernel_size=2, stride=2, padding=0)"
            ]
          },
          "metadata": {},
          "execution_count": 31
        }
      ]
    },
    {
      "cell_type": "code",
      "source": [
        "y = M(x)\n",
        "y.shape"
      ],
      "metadata": {
        "colab": {
          "base_uri": "https://localhost:8080/"
        },
        "id": "KiBSOyP3ZFuD",
        "outputId": "bedd7528-9727-493b-f704-c435e31cce9e"
      },
      "execution_count": null,
      "outputs": [
        {
          "output_type": "execute_result",
          "data": {
            "text/plain": [
              "torch.Size([10, 16, 64, 64])"
            ]
          },
          "metadata": {},
          "execution_count": 32
        }
      ]
    },
    {
      "cell_type": "markdown",
      "source": [
        "## Adaptive Max Pooling\n",
        "\n",
        "Applies a 2D adaptive max pooling over an input signal composed of several input planes."
      ],
      "metadata": {
        "id": "ZUbKhrcqZOft"
      }
    },
    {
      "cell_type": "code",
      "source": [
        "M = nn.AdaptiveMaxPool2d((1, 1))\n",
        "M"
      ],
      "metadata": {
        "colab": {
          "base_uri": "https://localhost:8080/"
        },
        "id": "mV-K44YbZLVr",
        "outputId": "63495a86-3afd-4689-e789-51e4e877d7cc"
      },
      "execution_count": null,
      "outputs": [
        {
          "output_type": "execute_result",
          "data": {
            "text/plain": [
              "AdaptiveMaxPool2d(output_size=(1, 1))"
            ]
          },
          "metadata": {},
          "execution_count": 33
        }
      ]
    },
    {
      "cell_type": "code",
      "source": [
        "y = M(x)\n",
        "y.shape"
      ],
      "metadata": {
        "colab": {
          "base_uri": "https://localhost:8080/"
        },
        "id": "Ubs69P_5ZNXD",
        "outputId": "84219118-c1d9-4c99-d863-84f1bcd0ebd3"
      },
      "execution_count": null,
      "outputs": [
        {
          "output_type": "execute_result",
          "data": {
            "text/plain": [
              "torch.Size([10, 16, 1, 1])"
            ]
          },
          "metadata": {},
          "execution_count": 34
        }
      ]
    },
    {
      "cell_type": "markdown",
      "source": [
        "# Normalization layers\n",
        "\n",
        "[Link for more](https://pytorch.org/docs/stable/nn.html#normalization-layers)"
      ],
      "metadata": {
        "id": "DZoCCDOnZYuT"
      }
    },
    {
      "cell_type": "markdown",
      "source": [
        "## Batch normalization\n",
        "\n",
        "Batch normalization is a layer that allows every layer of the network to do learning more independently. It is used to normalize the output of the previous layers. The activations scale the input layer in normalization. Using batch normalization learning becomes efficient also it can be used as regularization to avoid overfitting of the model."
      ],
      "metadata": {
        "id": "zCpDzga_aehF"
      }
    },
    {
      "cell_type": "code",
      "source": [
        "M = nn.BatchNorm1d(16)\n",
        "M"
      ],
      "metadata": {
        "colab": {
          "base_uri": "https://localhost:8080/"
        },
        "id": "sLBqX_hrtyNC",
        "outputId": "06e2750b-b0a0-41d2-da01-7ef824c30cbb"
      },
      "execution_count": null,
      "outputs": [
        {
          "output_type": "execute_result",
          "data": {
            "text/plain": [
              "BatchNorm1d(16, eps=1e-05, momentum=0.1, affine=True, track_running_stats=True)"
            ]
          },
          "metadata": {},
          "execution_count": 35
        }
      ]
    },
    {
      "cell_type": "code",
      "source": [
        "x = torch.randn(batchSize, 16)\n",
        "y = M(x)\n",
        "y.shape"
      ],
      "metadata": {
        "colab": {
          "base_uri": "https://localhost:8080/"
        },
        "id": "3vmCRavptlSE",
        "outputId": "e57f313a-98ed-410c-acc7-af6b6c2c939a"
      },
      "execution_count": null,
      "outputs": [
        {
          "output_type": "execute_result",
          "data": {
            "text/plain": [
              "torch.Size([10, 16])"
            ]
          },
          "metadata": {},
          "execution_count": 36
        }
      ]
    },
    {
      "cell_type": "code",
      "source": [
        "M = nn.BatchNorm2d(16)\n",
        "M"
      ],
      "metadata": {
        "colab": {
          "base_uri": "https://localhost:8080/"
        },
        "id": "ANZdKvXOawF9",
        "outputId": "f3b84fa3-421c-4d02-9561-ed2da81b4a47"
      },
      "execution_count": null,
      "outputs": [
        {
          "output_type": "execute_result",
          "data": {
            "text/plain": [
              "BatchNorm2d(16, eps=1e-05, momentum=0.1, affine=True, track_running_stats=True)"
            ]
          },
          "metadata": {},
          "execution_count": 37
        }
      ]
    },
    {
      "cell_type": "code",
      "source": [
        "x = torch.randn(batchSize, 16, 128, 128)\n",
        "y = M(x)\n",
        "y.shape"
      ],
      "metadata": {
        "colab": {
          "base_uri": "https://localhost:8080/"
        },
        "id": "5cdi-q5payCU",
        "outputId": "8f3a0bbf-0b6a-4668-f1d9-4c7d13d52ffc"
      },
      "execution_count": null,
      "outputs": [
        {
          "output_type": "execute_result",
          "data": {
            "text/plain": [
              "torch.Size([10, 16, 128, 128])"
            ]
          },
          "metadata": {},
          "execution_count": 38
        }
      ]
    },
    {
      "cell_type": "markdown",
      "source": [
        "# Dropout\n",
        "\n",
        "Dropouts are the regularization technique that is used to prevent overfitting in the model. Dropouts are added to randomly switching some percentage of neurons of the network. When the neurons are switched off the incoming and outgoing connection to those neurons is also switched off. This is done to enhance the learning of the model. Dropouts are usually advised not to use after the convolution layers, they are mostly used after the dense layers of the network. \n",
        "\n",
        "[Link for more](https://pytorch.org/docs/stable/nn.html#dropout-layers)"
      ],
      "metadata": {
        "id": "qQ2latu2a2MT"
      }
    },
    {
      "cell_type": "code",
      "source": [
        "M = nn.Dropout(p = 0.3)\n",
        "M"
      ],
      "metadata": {
        "colab": {
          "base_uri": "https://localhost:8080/"
        },
        "id": "VpHgDlbSbQDF",
        "outputId": "c5258053-4976-49af-beb3-c71004668bb0"
      },
      "execution_count": null,
      "outputs": [
        {
          "output_type": "execute_result",
          "data": {
            "text/plain": [
              "Dropout(p=0.3, inplace=False)"
            ]
          },
          "metadata": {},
          "execution_count": 39
        }
      ]
    },
    {
      "cell_type": "code",
      "source": [
        "x = torch.randn(batchSize, 64)\n",
        "y = M(x)\n",
        "y.shape, (y == 0).sum(dim=-1)"
      ],
      "metadata": {
        "colab": {
          "base_uri": "https://localhost:8080/"
        },
        "id": "2TEkHvEmbfR4",
        "outputId": "b3308786-4c87-4135-9bf6-1798a3bdbd12"
      },
      "execution_count": null,
      "outputs": [
        {
          "output_type": "execute_result",
          "data": {
            "text/plain": [
              "(torch.Size([10, 64]), tensor([16, 21, 26, 27, 18, 19, 18, 19, 19, 26]))"
            ]
          },
          "metadata": {},
          "execution_count": 44
        }
      ]
    },
    {
      "cell_type": "code",
      "source": [
        "M = nn.Dropout2d(p = 0.5)\n",
        "M"
      ],
      "metadata": {
        "colab": {
          "base_uri": "https://localhost:8080/"
        },
        "id": "lMeO33awbpzv",
        "outputId": "37a063a1-1ae6-45e1-9b0a-694d9fe0c973"
      },
      "execution_count": null,
      "outputs": [
        {
          "output_type": "execute_result",
          "data": {
            "text/plain": [
              "Dropout2d(p=0.5, inplace=False)"
            ]
          },
          "metadata": {},
          "execution_count": 45
        }
      ]
    },
    {
      "cell_type": "code",
      "source": [
        "x = torch.randn(batchSize, 64, 32, 32)\n",
        "y = M(x)\n",
        "y.shape, (y.flatten(2).sum(-1) == 0).sum(-1)"
      ],
      "metadata": {
        "colab": {
          "base_uri": "https://localhost:8080/"
        },
        "id": "-xoueVDObsNM",
        "outputId": "1996f35c-9fd4-462e-b972-075883366122"
      },
      "execution_count": null,
      "outputs": [
        {
          "output_type": "execute_result",
          "data": {
            "text/plain": [
              "(torch.Size([10, 64, 32, 32]),\n",
              " tensor([32, 34, 35, 28, 31, 35, 35, 35, 33, 29]))"
            ]
          },
          "metadata": {},
          "execution_count": 46
        }
      ]
    },
    {
      "cell_type": "markdown",
      "source": [
        "# Loss functions\n",
        "\n",
        "Loss functions measure how far an estimated value is from its true value. A loss function maps decisions to their associated costs.\n",
        "\n",
        "[Link for more](https://pytorch.org/docs/stable/nn.html#loss-functions)"
      ],
      "metadata": {
        "id": "IxdD75Upb0fc"
      }
    },
    {
      "cell_type": "markdown",
      "source": [
        "## MSE\n",
        "\n",
        "Mean squared error (MSE) is the most commonly used loss function for regression. The loss is the mean overseen data of the squared differences between true and predicted values."
      ],
      "metadata": {
        "id": "bAnFnnUPcjUk"
      }
    },
    {
      "cell_type": "code",
      "source": [
        "loss = nn.MSELoss()\n",
        "loss"
      ],
      "metadata": {
        "colab": {
          "base_uri": "https://localhost:8080/"
        },
        "id": "Yt0jT6vAcMyc",
        "outputId": "b76102a0-5528-480f-b2e8-67966a66bc11"
      },
      "execution_count": null,
      "outputs": [
        {
          "output_type": "execute_result",
          "data": {
            "text/plain": [
              "MSELoss()"
            ]
          },
          "metadata": {},
          "execution_count": 47
        }
      ]
    },
    {
      "cell_type": "code",
      "source": [
        "x = torch.randn(batchSize, 16)\n",
        "y = torch.randn(batchSize, 16)\n",
        "loss(x, y), F.mse_loss(x, y)"
      ],
      "metadata": {
        "colab": {
          "base_uri": "https://localhost:8080/"
        },
        "id": "gJfvsCzLcfBM",
        "outputId": "6a10e22f-775e-4c84-9131-02faa6004b0d"
      },
      "execution_count": null,
      "outputs": [
        {
          "output_type": "execute_result",
          "data": {
            "text/plain": [
              "(tensor(2.1907), tensor(2.1907))"
            ]
          },
          "metadata": {},
          "execution_count": 48
        }
      ]
    },
    {
      "cell_type": "markdown",
      "source": [
        "## Cross Entropy\n",
        "\n",
        "Cross-entropy is a measure of the difference between two probability distributions for a given random variable or set of events.\n",
        "\n",
        "$$ H (P, Q) = \\; – Σ_{x \\; in \\; X} P(x) × log(Q(x)) $$\n",
        "\n",
        "[Link for more](https://machinelearningmastery.com/cross-entropy-for-machine-learning/)"
      ],
      "metadata": {
        "id": "EVvYw96_dSYd"
      }
    },
    {
      "cell_type": "code",
      "source": [
        "loss = nn.CrossEntropyLoss()\n",
        "loss"
      ],
      "metadata": {
        "colab": {
          "base_uri": "https://localhost:8080/"
        },
        "id": "5-amuMF7dRk9",
        "outputId": "632a0290-8782-4f05-cbe6-62ae2eb7b9ea"
      },
      "execution_count": null,
      "outputs": [
        {
          "output_type": "execute_result",
          "data": {
            "text/plain": [
              "CrossEntropyLoss()"
            ]
          },
          "metadata": {},
          "execution_count": 49
        }
      ]
    },
    {
      "cell_type": "code",
      "source": [
        "# This MUST contain scores (logits), not probabilities. So, you shouldn't use SoftMax to calculate multiclass cross-entropy. because the function applies the softmax itself.\n",
        "x = torch.randn(batchSize, 16)     \n",
        "y = torch.randn(batchSize, 16)\n",
        "loss(x, y), F.cross_entropy(x, y)"
      ],
      "metadata": {
        "colab": {
          "base_uri": "https://localhost:8080/"
        },
        "id": "uI9Y9uYveUXf",
        "outputId": "e6b2fcb9-9dc7-42c3-d177-dae7be55da78"
      },
      "execution_count": null,
      "outputs": [
        {
          "output_type": "execute_result",
          "data": {
            "text/plain": [
              "(tensor(2.7850), tensor(2.7850))"
            ]
          },
          "metadata": {},
          "execution_count": 51
        }
      ]
    },
    {
      "cell_type": "markdown",
      "source": [
        "Putting Modules Together"
      ],
      "metadata": {
        "id": "i2nPeD0R8nRX"
      }
    },
    {
      "cell_type": "code",
      "source": [
        "M = nn.Sequential(          # B 16\n",
        "    nn.Linear(in_features = 16, out_features = 256),     # B 256\n",
        "    nn.ReLU(),\n",
        "    nn.BatchNorm1d(num_features = 256),\n",
        "    nn.Linear(in_features = 256, out_features = 1),      # B 1\n",
        "    nn.Sigmoid(),\n",
        "    nn.Flatten(0)           # B\n",
        ")\n",
        "M"
      ],
      "metadata": {
        "colab": {
          "base_uri": "https://localhost:8080/"
        },
        "id": "QVW_0bqF9gr0",
        "outputId": "08fdb7a7-6d85-43d5-dee3-72a4895170fc"
      },
      "execution_count": null,
      "outputs": [
        {
          "output_type": "execute_result",
          "data": {
            "text/plain": [
              "Sequential(\n",
              "  (0): Linear(in_features=16, out_features=256, bias=True)\n",
              "  (1): ReLU()\n",
              "  (2): BatchNorm1d(256, eps=1e-05, momentum=0.1, affine=True, track_running_stats=True)\n",
              "  (3): Linear(in_features=256, out_features=1, bias=True)\n",
              "  (4): Sigmoid()\n",
              "  (5): Flatten(start_dim=0, end_dim=-1)\n",
              ")"
            ]
          },
          "metadata": {},
          "execution_count": 55
        }
      ]
    },
    {
      "cell_type": "code",
      "source": [
        "x = torch.randn(batchSize, 16)\n",
        "y = M(x)\n",
        "y"
      ],
      "metadata": {
        "colab": {
          "base_uri": "https://localhost:8080/"
        },
        "id": "erNPgj16-G1m",
        "outputId": "4874d1a5-790f-43b5-d38f-c7c5b54fde1b"
      },
      "execution_count": null,
      "outputs": [
        {
          "output_type": "execute_result",
          "data": {
            "text/plain": [
              "tensor([0.4722, 0.4281, 0.4448, 0.4765, 0.4655, 0.2912, 0.4909, 0.7542, 0.5149,\n",
              "        0.5474], grad_fn=<ReshapeAliasBackward0>)"
            ]
          },
          "metadata": {},
          "execution_count": 56
        }
      ]
    },
    {
      "cell_type": "markdown",
      "source": [
        "## Define a module"
      ],
      "metadata": {
        "id": "nDloMNofy65K"
      }
    },
    {
      "cell_type": "code",
      "source": [
        "class Net(nn.Module): \n",
        "\n",
        "    def __init__(self, in_features: int, num_classes: int):\n",
        "        super().__init__()\n",
        "        self.lin1 = nn.Linear(in_features = in_features, out_features = 256)\n",
        "        self.relu = nn.ReLU()\n",
        "        self.lin2 = nn.Linear(in_features = 256, out_features = num_classes)\n",
        "\n",
        "    def forward(self, x: torch.Tensor) -> torch.Tensor:\n",
        "        # x: B  I\n",
        "        x = self.lin1(x)    # B 256\n",
        "        x = self.relu(x)    # B 256\n",
        "        x = self.lin2(x)    # B C\n",
        "        return x"
      ],
      "metadata": {
        "id": "xkpr48Ro-U2X"
      },
      "execution_count": null,
      "outputs": []
    },
    {
      "cell_type": "code",
      "source": [
        "net = Net(16, 4)\n",
        "net.eval()"
      ],
      "metadata": {
        "colab": {
          "base_uri": "https://localhost:8080/"
        },
        "id": "PKfq5Y-L-ict",
        "outputId": "a84873d5-2c10-4e5a-c858-ccfbd30ed45e"
      },
      "execution_count": null,
      "outputs": [
        {
          "output_type": "execute_result",
          "data": {
            "text/plain": [
              "Net(\n",
              "  (lin1): Linear(in_features=16, out_features=256, bias=True)\n",
              "  (relu): ReLU()\n",
              "  (lin2): Linear(in_features=256, out_features=4, bias=True)\n",
              ")"
            ]
          },
          "metadata": {},
          "execution_count": 66
        }
      ]
    },
    {
      "cell_type": "code",
      "source": [
        "x = torch.randn(batchSize, 16)\n",
        "o = net(x)\n",
        "o"
      ],
      "metadata": {
        "colab": {
          "base_uri": "https://localhost:8080/"
        },
        "id": "ZEXW8lww-mPE",
        "outputId": "f147e83d-2104-4533-e16d-34259fc0a9b7"
      },
      "execution_count": null,
      "outputs": [
        {
          "output_type": "execute_result",
          "data": {
            "text/plain": [
              "tensor([[ 0.1257, -0.1486,  0.5280,  0.0834],\n",
              "        [ 0.2643,  0.1749, -0.7724,  0.1842],\n",
              "        [ 0.2285,  0.0449, -0.1685, -0.2249],\n",
              "        [-0.0491, -0.1972,  0.2131, -0.0878],\n",
              "        [ 0.0869, -0.3329, -0.0558, -0.1607],\n",
              "        [ 0.0282, -0.1797, -0.3280, -0.0576],\n",
              "        [ 0.4027,  0.2354, -0.3181,  0.1195],\n",
              "        [ 0.0213, -0.1148, -0.2188,  0.0052],\n",
              "        [ 0.7971, -0.8762, -0.0063, -0.1093],\n",
              "        [ 0.1741,  0.0954,  0.2499, -0.2546]], grad_fn=<AddmmBackward0>)"
            ]
          },
          "metadata": {},
          "execution_count": 67
        }
      ]
    },
    {
      "cell_type": "code",
      "source": [
        "y = torch.randn(batchSize, 4).argmax(-1)\n",
        "y"
      ],
      "metadata": {
        "colab": {
          "base_uri": "https://localhost:8080/"
        },
        "id": "1UKEB6kP_owW",
        "outputId": "68189ecf-8504-45fe-c6ec-69e102a9325a"
      },
      "execution_count": null,
      "outputs": [
        {
          "output_type": "execute_result",
          "data": {
            "text/plain": [
              "tensor([1, 0, 1, 1, 3, 0, 0, 2, 2, 2])"
            ]
          },
          "metadata": {},
          "execution_count": 68
        }
      ]
    },
    {
      "cell_type": "code",
      "source": [
        "criterion = nn.CrossEntropyLoss()\n",
        "criterion"
      ],
      "metadata": {
        "colab": {
          "base_uri": "https://localhost:8080/"
        },
        "id": "0oFN6dci_uqm",
        "outputId": "95d63127-e69e-4506-dbef-88f96c64289f"
      },
      "execution_count": null,
      "outputs": [
        {
          "output_type": "execute_result",
          "data": {
            "text/plain": [
              "CrossEntropyLoss()"
            ]
          },
          "metadata": {},
          "execution_count": 69
        }
      ]
    },
    {
      "cell_type": "code",
      "source": [
        "loss = criterion(o, y)\n",
        "loss"
      ],
      "metadata": {
        "colab": {
          "base_uri": "https://localhost:8080/"
        },
        "id": "VojHpfsM_xPf",
        "outputId": "13b0ab9b-e246-4e37-9d39-9e8065e1b420"
      },
      "execution_count": null,
      "outputs": [
        {
          "output_type": "execute_result",
          "data": {
            "text/plain": [
              "tensor(1.3838, grad_fn=<NllLossBackward0>)"
            ]
          },
          "metadata": {},
          "execution_count": 70
        }
      ]
    },
    {
      "cell_type": "code",
      "source": [
        "net.lin1.weight.grad"
      ],
      "metadata": {
        "id": "tXj_2q7g-sWd"
      },
      "execution_count": null,
      "outputs": []
    },
    {
      "cell_type": "code",
      "source": [
        "loss.backward()\n",
        "net.lin1.weight.grad"
      ],
      "metadata": {
        "colab": {
          "base_uri": "https://localhost:8080/"
        },
        "id": "BeWIKrQK_l7X",
        "outputId": "abc42ba4-2848-4f4d-8819-fdb106b270f3"
      },
      "execution_count": null,
      "outputs": [
        {
          "output_type": "execute_result",
          "data": {
            "text/plain": [
              "tensor([[ 4.0466e-03, -4.2797e-03, -2.1860e-05,  ...,  9.9314e-04,\n",
              "         -7.8819e-03, -3.1721e-03],\n",
              "        [ 9.7097e-04, -6.2181e-03, -1.9447e-07,  ...,  1.1302e-02,\n",
              "          2.1152e-03,  9.5713e-03],\n",
              "        [-9.7078e-03,  1.0379e-02, -8.3692e-03,  ...,  1.3334e-03,\n",
              "          1.3270e-02, -6.3845e-03],\n",
              "        ...,\n",
              "        [-2.9845e-03,  1.4671e-02,  1.5405e-02,  ...,  2.4478e-03,\n",
              "         -1.7489e-02, -2.4506e-03],\n",
              "        [ 1.0637e-02, -7.2977e-03, -6.8045e-03,  ..., -1.1330e-02,\n",
              "          1.4466e-02,  2.9236e-03],\n",
              "        [ 4.8928e-03, -5.7881e-03, -1.0807e-02,  ..., -3.9286e-03,\n",
              "          5.5728e-03, -1.6212e-03]])"
            ]
          },
          "metadata": {},
          "execution_count": 74
        }
      ]
    },
    {
      "cell_type": "code",
      "source": [
        "# zero the parameter gradients\n",
        "net.zero_grad()\n",
        "net.lin1.weight.grad"
      ],
      "metadata": {
        "colab": {
          "base_uri": "https://localhost:8080/"
        },
        "id": "DsAm9x4CAIDv",
        "outputId": "a02640dc-b36f-468e-b586-8f0a4343288b"
      },
      "execution_count": null,
      "outputs": [
        {
          "output_type": "execute_result",
          "data": {
            "text/plain": [
              "tensor([[0., 0., 0.,  ..., 0., 0., 0.],\n",
              "        [0., 0., 0.,  ..., 0., 0., 0.],\n",
              "        [0., 0., 0.,  ..., 0., 0., 0.],\n",
              "        ...,\n",
              "        [0., 0., 0.,  ..., 0., 0., 0.],\n",
              "        [0., 0., 0.,  ..., 0., 0., 0.],\n",
              "        [0., 0., 0.,  ..., 0., 0., 0.]])"
            ]
          },
          "metadata": {},
          "execution_count": 76
        }
      ]
    },
    {
      "cell_type": "markdown",
      "source": [
        "# Hooking for visualising and debugging\n",
        "\n",
        "A hook is basically a function that is executed when the either forward or backward is called.\n",
        "\n",
        "1.   The Forward Hook\n",
        "2.   The Backward Hook\n",
        "\n"
      ],
      "metadata": {
        "id": "jhnwp_wc0U12"
      }
    },
    {
      "cell_type": "code",
      "source": [
        "x = torch.tensor([0., 0., 0.], requires_grad=True)\n",
        "# double the gradient\n",
        "handle = x.register_hook(lambda grad: grad * 2)\n",
        "x.backward(torch.tensor([1., 2., 3.]))\n",
        "x.grad"
      ],
      "metadata": {
        "colab": {
          "base_uri": "https://localhost:8080/"
        },
        "id": "An8zllJzEbtH",
        "outputId": "dc30fe12-bd22-4357-92bf-b1b78ddd0286"
      },
      "execution_count": null,
      "outputs": [
        {
          "output_type": "execute_result",
          "data": {
            "text/plain": [
              "tensor([2., 4., 6.])"
            ]
          },
          "metadata": {},
          "execution_count": 81
        }
      ]
    },
    {
      "cell_type": "code",
      "source": [
        "handle.remove()"
      ],
      "metadata": {
        "id": "qn_DQ5DsErke"
      },
      "execution_count": null,
      "outputs": []
    },
    {
      "cell_type": "markdown",
      "source": [
        "## Forward Hook\n",
        "\n",
        "Change output of a layer"
      ],
      "metadata": {
        "id": "3_QxnnxH06ht"
      }
    },
    {
      "cell_type": "code",
      "source": [
        "handle = net.lin2.register_forward_hook(lambda m, i, o: torch.zeros_like(o))"
      ],
      "metadata": {
        "id": "PNjkcTA00xUj"
      },
      "execution_count": null,
      "outputs": []
    },
    {
      "cell_type": "code",
      "source": [
        "x = torch.randn(batchSize, 16)\n",
        "y = net(x)\n",
        "y"
      ],
      "metadata": {
        "colab": {
          "base_uri": "https://localhost:8080/"
        },
        "id": "ImJCtVJ-1CcL",
        "outputId": "294652af-bc09-40e9-9714-e18297602975"
      },
      "execution_count": null,
      "outputs": [
        {
          "output_type": "execute_result",
          "data": {
            "text/plain": [
              "tensor([[0., 0., 0., 0.],\n",
              "        [0., 0., 0., 0.],\n",
              "        [0., 0., 0., 0.],\n",
              "        [0., 0., 0., 0.],\n",
              "        [0., 0., 0., 0.],\n",
              "        [0., 0., 0., 0.],\n",
              "        [0., 0., 0., 0.],\n",
              "        [0., 0., 0., 0.],\n",
              "        [0., 0., 0., 0.],\n",
              "        [0., 0., 0., 0.]])"
            ]
          },
          "metadata": {},
          "execution_count": 84
        }
      ]
    },
    {
      "cell_type": "code",
      "source": [
        "handle.remove()"
      ],
      "metadata": {
        "id": "WOskji_pB0Jg"
      },
      "execution_count": null,
      "outputs": []
    },
    {
      "cell_type": "markdown",
      "source": [
        "# Backward Hook"
      ],
      "metadata": {
        "id": "fQ7SKmGS4G2M"
      }
    },
    {
      "cell_type": "code",
      "source": [
        "grad_in = None\n",
        "grad_out = None\n",
        "def catch_grad(m, g_in, g_out):\n",
        "    global grad_in, grad_out\n",
        "    grad_in = g_in\n",
        "    grad_out = g_out"
      ],
      "metadata": {
        "id": "k8vWKg4j1O5w"
      },
      "execution_count": null,
      "outputs": []
    },
    {
      "cell_type": "code",
      "source": [
        "handle = net.lin2.register_full_backward_hook(catch_grad)"
      ],
      "metadata": {
        "id": "Jsv5UmtK4lj-"
      },
      "execution_count": null,
      "outputs": []
    },
    {
      "cell_type": "code",
      "source": [
        "x = torch.randn(batchSize, 16)\n",
        "o = net(x)\n",
        "y = torch.randn(batchSize, 4).argmax(-1)"
      ],
      "metadata": {
        "id": "Cm9s_sux4xL8"
      },
      "execution_count": null,
      "outputs": []
    },
    {
      "cell_type": "code",
      "source": [
        "loss = criterion(o, y)\n",
        "loss.backward()"
      ],
      "metadata": {
        "id": "94Lnzd18Cz_R"
      },
      "execution_count": null,
      "outputs": []
    },
    {
      "cell_type": "code",
      "source": [
        "grad_in[0]"
      ],
      "metadata": {
        "colab": {
          "base_uri": "https://localhost:8080/"
        },
        "id": "eSrLTQ0YC1A2",
        "outputId": "bbdff5ff-90eb-485f-ba15-0d89318e6981"
      },
      "execution_count": null,
      "outputs": [
        {
          "output_type": "execute_result",
          "data": {
            "text/plain": [
              "tensor([[-3.3329e-03, -2.1783e-03,  4.1018e-03,  ...,  9.6945e-05,\n",
              "          3.4603e-04,  1.6266e-03],\n",
              "        [ 3.9661e-04,  6.7900e-03,  2.5259e-03,  ..., -2.4557e-03,\n",
              "          2.3057e-03,  4.4749e-03],\n",
              "        [ 1.4463e-03, -2.8742e-04, -3.2944e-03,  ...,  6.3021e-03,\n",
              "         -5.6493e-03, -3.9143e-03],\n",
              "        ...,\n",
              "        [ 1.1422e-03, -2.2912e-04, -2.7664e-03,  ...,  5.9962e-03,\n",
              "         -5.3375e-03, -3.4956e-03],\n",
              "        [ 3.1753e-04,  7.3811e-03,  2.8776e-03,  ..., -2.4305e-03,\n",
              "          2.3185e-03,  4.8688e-03],\n",
              "        [ 1.3797e-03, -2.8318e-03, -2.8915e-03,  ..., -1.9383e-03,\n",
              "          1.3474e-03, -2.0386e-03]])"
            ]
          },
          "metadata": {},
          "execution_count": 90
        }
      ]
    },
    {
      "cell_type": "code",
      "source": [
        "grad_out[0]"
      ],
      "metadata": {
        "colab": {
          "base_uri": "https://localhost:8080/"
        },
        "id": "rpUqn1w_C2l1",
        "outputId": "58b9bba5-ba50-4840-c64b-eb1ae9a9d2aa"
      },
      "execution_count": null,
      "outputs": [
        {
          "output_type": "execute_result",
          "data": {
            "text/plain": [
              "tensor([[ 0.0356,  0.0134,  0.0221, -0.0712],\n",
              "        [ 0.0312,  0.0227, -0.0769,  0.0230],\n",
              "        [ 0.0332, -0.0757,  0.0186,  0.0240],\n",
              "        [-0.0727,  0.0243,  0.0257,  0.0227],\n",
              "        [ 0.0237,  0.0291,  0.0245, -0.0773],\n",
              "        [ 0.0351,  0.0239, -0.0836,  0.0246],\n",
              "        [ 0.0263,  0.0199,  0.0296, -0.0758],\n",
              "        [ 0.0358, -0.0711,  0.0172,  0.0182],\n",
              "        [ 0.0380,  0.0225, -0.0831,  0.0226],\n",
              "        [-0.0660,  0.0171,  0.0254,  0.0235]])"
            ]
          },
          "metadata": {},
          "execution_count": 91
        }
      ]
    },
    {
      "cell_type": "code",
      "source": [
        "handle.remove()"
      ],
      "metadata": {
        "id": "N28MAvvnC30P"
      },
      "execution_count": null,
      "outputs": []
    },
    {
      "cell_type": "markdown",
      "source": [
        "# Optimizers\n",
        "Algorithms: \n",
        "\n",
        "1. SGD\n",
        "2. Adam\n",
        "3. Adagrad\n",
        "4. Adamax\n",
        "5. ...\n",
        "\n",
        "[Link for more](https://machinelearningknowledge.ai/pytorch-optimizers-complete-guide-for-beginner/)\n",
        "\n"
      ],
      "metadata": {
        "id": "JGG9zWbaHjd3"
      }
    },
    {
      "cell_type": "markdown",
      "source": [
        "## Learning rate \n",
        "\n",
        "The learning rate is a hyperparameter that controls how much to change the model in response to the estimated error each time the model weights are updated. Choosing the learning rate is challenging as a value too small may result in a long training process that could get stuck, whereas a value too large may result in learning a sub-optimal set of weights too fast or an unstable training process.\n",
        "\n",
        "Link for more [1](https://pytorch.org/docs/stable/optim.html), [2](https://machinelearningmastery.com/understand-the-dynamics-of-learning-rate-on-deep-learning-neural-networks/)\n",
        "\n",
        "[How to adjust learning rate](https://pytorch.org/docs/stable/optim.html#how-to-adjust-learning-rate)"
      ],
      "metadata": {
        "id": "PvmUXJrUJIu5"
      }
    },
    {
      "cell_type": "markdown",
      "source": [
        "## Weight Decay\n",
        "\n",
        "Weight decay is a regularization technique by adding a small penalty, usually the L2 norm of the weights (all the weights of the model), to the loss function. \n",
        "\n",
        "$$ loss = loss + weight\\_decay \\times L_2 \\; norm \\; of \\; the \\; weights $$"
      ],
      "metadata": {
        "id": "5KP8AyYbLCzH"
      }
    },
    {
      "cell_type": "code",
      "source": [
        "optimizer = torch.optim.Adam(net.parameters(), lr=1e-4)\n",
        "optimizer"
      ],
      "metadata": {
        "colab": {
          "base_uri": "https://localhost:8080/"
        },
        "id": "HtGdkqN5HlW-",
        "outputId": "eb7962a8-656b-4946-982a-8d9e20651758"
      },
      "execution_count": null,
      "outputs": [
        {
          "output_type": "execute_result",
          "data": {
            "text/plain": [
              "Adam (\n",
              "Parameter Group 0\n",
              "    amsgrad: False\n",
              "    betas: (0.9, 0.999)\n",
              "    eps: 1e-08\n",
              "    lr: 0.0001\n",
              "    maximize: False\n",
              "    weight_decay: 0\n",
              ")"
            ]
          },
          "metadata": {},
          "execution_count": 93
        }
      ]
    },
    {
      "cell_type": "code",
      "source": [
        "x = torch.randn(batchSize, 16)\n",
        "o = net(x)\n",
        "y = torch.randn(batchSize, 4).argmax(-1)"
      ],
      "metadata": {
        "id": "gVXx_xPrMHjn"
      },
      "execution_count": null,
      "outputs": []
    },
    {
      "cell_type": "code",
      "source": [
        "net.lin1.weight"
      ],
      "metadata": {
        "colab": {
          "base_uri": "https://localhost:8080/"
        },
        "id": "hGDan6-vNMy4",
        "outputId": "ff1810fb-f248-482d-eb1f-be25325ba209"
      },
      "execution_count": null,
      "outputs": [
        {
          "output_type": "execute_result",
          "data": {
            "text/plain": [
              "Parameter containing:\n",
              "tensor([[ 0.0868,  0.0760,  0.1695,  ..., -0.1020,  0.2170, -0.1412],\n",
              "        [ 0.2442, -0.0888,  0.0705,  ...,  0.0796, -0.0062,  0.0248],\n",
              "        [ 0.0339,  0.0487,  0.0203,  ...,  0.0552, -0.1998,  0.1689],\n",
              "        ...,\n",
              "        [-0.2349,  0.1476, -0.0668,  ..., -0.1859, -0.0927, -0.0747],\n",
              "        [ 0.0287, -0.1240,  0.1244,  ...,  0.2130, -0.0341, -0.0507],\n",
              "        [ 0.0217, -0.1207,  0.1797,  ...,  0.1632, -0.1789,  0.0239]],\n",
              "       requires_grad=True)"
            ]
          },
          "metadata": {},
          "execution_count": 96
        }
      ]
    },
    {
      "cell_type": "code",
      "source": [
        "loss = criterion(o, y)\n",
        "loss"
      ],
      "metadata": {
        "colab": {
          "base_uri": "https://localhost:8080/"
        },
        "id": "ZHb0FIlPNOP3",
        "outputId": "34cceb38-e90c-4150-931f-7c094ee57597"
      },
      "execution_count": null,
      "outputs": [
        {
          "output_type": "execute_result",
          "data": {
            "text/plain": [
              "tensor(1.4421, grad_fn=<NllLossBackward0>)"
            ]
          },
          "metadata": {},
          "execution_count": 95
        }
      ]
    },
    {
      "cell_type": "code",
      "source": [
        "loss.backward()"
      ],
      "metadata": {
        "id": "xg8EzuNqNPnO"
      },
      "execution_count": null,
      "outputs": []
    },
    {
      "cell_type": "code",
      "source": [
        "optimizer.step()\n",
        "optimizer.zero_grad()"
      ],
      "metadata": {
        "id": "zsM-hpYdNQ8v"
      },
      "execution_count": null,
      "outputs": []
    },
    {
      "cell_type": "code",
      "source": [
        "net.lin1.weight"
      ],
      "metadata": {
        "colab": {
          "base_uri": "https://localhost:8080/"
        },
        "id": "9ID7qgXENSLm",
        "outputId": "aeaa69e5-6376-4931-a26a-32a74b445556"
      },
      "execution_count": null,
      "outputs": [
        {
          "output_type": "execute_result",
          "data": {
            "text/plain": [
              "Parameter containing:\n",
              "tensor([[ 0.0869,  0.0759,  0.1696,  ..., -0.1019,  0.2169, -0.1411],\n",
              "        [ 0.2441, -0.0889,  0.0704,  ...,  0.0797, -0.0063,  0.0249],\n",
              "        [ 0.0338,  0.0488,  0.0204,  ...,  0.0553, -0.1999,  0.1688],\n",
              "        ...,\n",
              "        [-0.2348,  0.1475, -0.0667,  ..., -0.1860, -0.0928, -0.0746],\n",
              "        [ 0.0286, -0.1239,  0.1243,  ...,  0.2131, -0.0340, -0.0506],\n",
              "        [ 0.0216, -0.1208,  0.1796,  ...,  0.1633, -0.1790,  0.0238]],\n",
              "       requires_grad=True)"
            ]
          },
          "metadata": {},
          "execution_count": 99
        }
      ]
    },
    {
      "cell_type": "markdown",
      "source": [
        "# Scheduler\n",
        "\n",
        "Scheduler provides several methods to adjust the learning rate based on the number of epochs."
      ],
      "metadata": {
        "id": "HHlf7AksJSkf"
      }
    },
    {
      "cell_type": "code",
      "source": [
        "optimizer = torch.optim.Adam(net.parameters(), lr=1e-4)\n",
        "optimizer\n",
        "lr=optimizer.param_groups[0][\"lr\"];\n",
        "lr"
      ],
      "metadata": {
        "colab": {
          "base_uri": "https://localhost:8080/"
        },
        "id": "5NdHZEbFJ5So",
        "outputId": "ffdb296e-60b7-4eab-e3a6-30517b8f7f4a"
      },
      "execution_count": null,
      "outputs": [
        {
          "output_type": "execute_result",
          "data": {
            "text/plain": [
              "0.0001"
            ]
          },
          "metadata": {},
          "execution_count": 100
        }
      ]
    },
    {
      "cell_type": "code",
      "source": [
        "scheduler = torch.optim.lr_scheduler.ExponentialLR(optimizer, gamma=0.9)\n",
        "scheduler"
      ],
      "metadata": {
        "colab": {
          "base_uri": "https://localhost:8080/"
        },
        "id": "NbWh9P59MPH-",
        "outputId": "7249e728-48d6-4822-9ab4-20ade20ca021"
      },
      "execution_count": null,
      "outputs": [
        {
          "output_type": "execute_result",
          "data": {
            "text/plain": [
              "<torch.optim.lr_scheduler.ExponentialLR at 0x7f187f266350>"
            ]
          },
          "metadata": {},
          "execution_count": 101
        }
      ]
    },
    {
      "cell_type": "code",
      "source": [
        "optimizer.step()\n",
        "scheduler.step()\n",
        "lr=optimizer.param_groups[0][\"lr\"];\n",
        "lr"
      ],
      "metadata": {
        "colab": {
          "base_uri": "https://localhost:8080/"
        },
        "id": "B3MKKszvMmHt",
        "outputId": "41a13cc5-db09-4c3a-a653-053fc151cdab"
      },
      "execution_count": null,
      "outputs": [
        {
          "output_type": "execute_result",
          "data": {
            "text/plain": [
              "9e-05"
            ]
          },
          "metadata": {},
          "execution_count": 102
        }
      ]
    },
    {
      "cell_type": "markdown",
      "source": [
        "# Saving and Loading Model"
      ],
      "metadata": {
        "id": "8k9olJUxNU83"
      }
    },
    {
      "cell_type": "code",
      "source": [
        "torch.save(net.state_dict(), 'net.pth')"
      ],
      "metadata": {
        "id": "9WXKPVIDNY6G"
      },
      "execution_count": null,
      "outputs": []
    },
    {
      "cell_type": "code",
      "source": [
        "net.load_state_dict(torch.load('net.pth'))"
      ],
      "metadata": {
        "colab": {
          "base_uri": "https://localhost:8080/"
        },
        "id": "JOJA6ViWNbdO",
        "outputId": "6595ed44-197c-40a4-c9b5-4f3ae28fd5fb"
      },
      "execution_count": null,
      "outputs": [
        {
          "output_type": "execute_result",
          "data": {
            "text/plain": [
              "<All keys matched successfully>"
            ]
          },
          "metadata": {},
          "execution_count": 104
        }
      ]
    },
    {
      "cell_type": "code",
      "source": [
        "net.state_dict()"
      ],
      "metadata": {
        "id": "tpdqEaVKOKwH"
      },
      "execution_count": null,
      "outputs": []
    },
    {
      "cell_type": "markdown",
      "source": [
        "# Train/Eval modes\n",
        "\n",
        "model.train() tells your model that you are training the model. So effectively layers like dropout, batchnorm, etc which behave different on the train and test procedures know what is going on and hence can behave accordingly.\n",
        "\n"
      ],
      "metadata": {
        "id": "WxIi0GY_55mf"
      }
    },
    {
      "cell_type": "code",
      "source": [
        "net.train()"
      ],
      "metadata": {
        "colab": {
          "base_uri": "https://localhost:8080/"
        },
        "id": "3n4_GP6lOeJ2",
        "outputId": "89c44d1d-9c4d-4d54-8012-896319a95ea3"
      },
      "execution_count": null,
      "outputs": [
        {
          "output_type": "execute_result",
          "data": {
            "text/plain": [
              "Net(\n",
              "  (lin1): Linear(in_features=16, out_features=256, bias=True)\n",
              "  (relu): ReLU()\n",
              "  (lin2): Linear(in_features=256, out_features=4, bias=True)\n",
              ")"
            ]
          },
          "metadata": {},
          "execution_count": 106
        }
      ]
    },
    {
      "cell_type": "code",
      "source": [
        "net.eval()"
      ],
      "metadata": {
        "colab": {
          "base_uri": "https://localhost:8080/"
        },
        "id": "qWVhcQwyOjKW",
        "outputId": "17438fa9-7bc7-4338-841a-7d2f98a410e9"
      },
      "execution_count": null,
      "outputs": [
        {
          "output_type": "execute_result",
          "data": {
            "text/plain": [
              "Net(\n",
              "  (lin1): Linear(in_features=16, out_features=256, bias=True)\n",
              "  (relu): ReLU()\n",
              "  (lin2): Linear(in_features=256, out_features=4, bias=True)\n",
              ")"
            ]
          },
          "metadata": {},
          "execution_count": 107
        }
      ]
    },
    {
      "cell_type": "markdown",
      "source": [
        "## Example: CIFAR10 classification with a convolutional network"
      ],
      "metadata": {
        "id": "t8Y-tz30NAMl"
      }
    },
    {
      "cell_type": "code",
      "source": [
        "import torchvision\n",
        "from torchvision import transforms"
      ],
      "metadata": {
        "id": "iRScyioaNJlT"
      },
      "execution_count": null,
      "outputs": []
    },
    {
      "cell_type": "code",
      "source": [
        "trainset = torchvision.datasets.CIFAR10(root='./data', train=True, download=True, transform=transforms.ToTensor())"
      ],
      "metadata": {
        "colab": {
          "base_uri": "https://localhost:8080/",
          "height": 85,
          "referenced_widgets": [
            "3f77eb0aa1104d98be8f87296bf6bbe1",
            "e9b6ae9657cb41908a071d1fe0ea65d0",
            "4ebbdfaf2fc6425ca6bb37c503ce4aa1",
            "16a8ac73c80d456fac2fc74c7e53eb49",
            "4b88c7574b1c45b886d423bda8fe953b",
            "595ae93f50414fdab87a4e06dfca92fe",
            "1a93f86c61584f90b461514b2377a493",
            "432a7c1bc03641a49381caffd7cd20eb",
            "b4257d25cd654e7699f61aeb99f4d773",
            "b6cdfb5585b34b7087bbfdae1cd009ff",
            "80be64a14ed34540a810864055d3bd67"
          ]
        },
        "id": "p2Ni5FfnRKtf",
        "outputId": "19bbe40f-2c5f-470f-8541-4b5b9e44007b"
      },
      "execution_count": null,
      "outputs": [
        {
          "output_type": "stream",
          "name": "stdout",
          "text": [
            "Downloading https://www.cs.toronto.edu/~kriz/cifar-10-python.tar.gz to ./data/cifar-10-python.tar.gz\n"
          ]
        },
        {
          "output_type": "display_data",
          "data": {
            "text/plain": [
              "  0%|          | 0/170498071 [00:00<?, ?it/s]"
            ],
            "application/vnd.jupyter.widget-view+json": {
              "version_major": 2,
              "version_minor": 0,
              "model_id": "3f77eb0aa1104d98be8f87296bf6bbe1"
            }
          },
          "metadata": {}
        },
        {
          "output_type": "stream",
          "name": "stdout",
          "text": [
            "Extracting ./data/cifar-10-python.tar.gz to ./data\n"
          ]
        }
      ]
    },
    {
      "cell_type": "code",
      "source": [
        "train_size = int(0.9 * len(trainset))\n",
        "val_size = len(trainset) - train_size\n",
        "trainset, valset = torch.utils.data.random_split(trainset, (train_size, val_size))"
      ],
      "metadata": {
        "id": "B0qNEDDdRMPB"
      },
      "execution_count": null,
      "outputs": []
    },
    {
      "cell_type": "code",
      "source": [
        "trainloader = torch.utils.data.DataLoader(trainset, batch_size=256,shuffle=True, num_workers=2)\n",
        "                                          \n",
        "valloader = torch.utils.data.DataLoader(valset, batch_size=1024,shuffle=False, num_workers=2)\n",
        "                                         "
      ],
      "metadata": {
        "id": "IJYNEXD8ROSe"
      },
      "execution_count": null,
      "outputs": []
    },
    {
      "cell_type": "code",
      "source": [
        "testset = torchvision.datasets.CIFAR10(root='./data', train=False,\n",
        "                                       download=True, transform=transforms.ToTensor())\n",
        "testloader = torch.utils.data.DataLoader(testset, batch_size=1024,\n",
        "                                         shuffle=False, num_workers=2)"
      ],
      "metadata": {
        "colab": {
          "base_uri": "https://localhost:8080/"
        },
        "id": "qT6leRDlRPru",
        "outputId": "019d88c0-a2e6-44e9-d25e-d5b76e9eef6e"
      },
      "execution_count": null,
      "outputs": [
        {
          "output_type": "stream",
          "name": "stdout",
          "text": [
            "Files already downloaded and verified\n"
          ]
        }
      ]
    },
    {
      "cell_type": "code",
      "source": [
        "classes = ('plane', 'car', 'bird', 'cat',\n",
        "           'deer', 'dog', 'frog', 'horse', 'ship', 'truck')"
      ],
      "metadata": {
        "id": "TGPOJJPeRRK_"
      },
      "execution_count": null,
      "outputs": []
    },
    {
      "cell_type": "code",
      "source": [
        "import matplotlib.pyplot as plt\n",
        "\n",
        "fig = plt.figure(figsize=(20, 4))\n",
        "\n",
        "for i in range(20):\n",
        "    fig.add_subplot(2, 10, i + 1)\n",
        "    image, label = trainset[i]\n",
        "    plt.imshow(image.permute(1, 2, 0).numpy())\n",
        "    plt.title(classes[label])\n",
        "    plt.axis('off')\n",
        "\n",
        "plt.show()"
      ],
      "metadata": {
        "colab": {
          "base_uri": "https://localhost:8080/",
          "height": 260
        },
        "id": "QtPQNX9ORS0n",
        "outputId": "d8c1918f-e9cc-4f7d-daa0-b9d553d29965"
      },
      "execution_count": null,
      "outputs": [
        {
          "output_type": "display_data",
          "data": {
            "text/plain": [
              "<Figure size 1440x288 with 20 Axes>"
            ],
            "image/png": "[encoded data removed]"
          },
          "metadata": {
            "needs_background": "light"
          }
        }
      ]
    },
    {
      "cell_type": "code",
      "source": [
        "class Cifar10Net(nn.Module):\n",
        "    def __init__(self):\n",
        "        super().__init__()\n",
        "        self.conv = nn.Sequential(                                                            # B 3   32  32\n",
        "            nn.Conv2d(in_channels = 3, out_channels = 16, kernel_size = 3, padding = 1 ),     # B 16  32  32\n",
        "            nn.ReLU(),\n",
        "            nn.Conv2d(in_channels = 16, out_channels = 16, kernel_size = 3, padding=1),       # B 16  32  32\n",
        "            nn.ReLU(),\n",
        "            nn.MaxPool2d(kernel_size = 2, stride = 2),                                        # B 16  16  16\n",
        "            nn.Dropout2d(p = 0.2),\n",
        "            nn.BatchNorm2d(num_features  = 16),\n",
        "            nn.Conv2d(in_channels = 16, out_channels = 32, kernel_size = 3, padding=1),       # B 32  16  16\n",
        "            nn.ReLU(),\n",
        "            nn.Conv2d(in_channels = 32, out_channels = 32, kernel_size = 3, padding=1),       # B 32  16  16\n",
        "            nn.ReLU(),\n",
        "            nn.MaxPool2d(kernel_size = 2, stride = 2),                                        # B 32  8   8\n",
        "            nn.Dropout2d(p = 0.2),\n",
        "            nn.BatchNorm2d(num_features = 32),\n",
        "        )\n",
        "        self.fc = nn.Sequential(\n",
        "            nn.Flatten(),                                                                     # B 2048\n",
        "            nn.Linear(in_features = 2048, out_features = 10),                                 # B 10\n",
        "        )\n",
        "\n",
        "    def forward(self, x: torch.Tensor) -> torch.Tensor:\n",
        "        x = self.conv(x)\n",
        "        x = self.fc(x)\n",
        "        return x"
      ],
      "metadata": {
        "id": "H1CXmdVTRVkW"
      },
      "execution_count": null,
      "outputs": []
    },
    {
      "cell_type": "code",
      "source": [
        "net = Cifar10Net().to(device)\n",
        "net"
      ],
      "metadata": {
        "colab": {
          "base_uri": "https://localhost:8080/"
        },
        "id": "VxDHAWvlRXEv",
        "outputId": "7befbef0-856c-4397-a6c7-20ea25796a68"
      },
      "execution_count": null,
      "outputs": [
        {
          "output_type": "execute_result",
          "data": {
            "text/plain": [
              "Cifar10Net(\n",
              "  (conv): Sequential(\n",
              "    (0): Conv2d(3, 16, kernel_size=(3, 3), stride=(1, 1), padding=(1, 1))\n",
              "    (1): ReLU()\n",
              "    (2): Conv2d(16, 16, kernel_size=(3, 3), stride=(1, 1), padding=(1, 1))\n",
              "    (3): ReLU()\n",
              "    (4): MaxPool2d(kernel_size=2, stride=2, padding=0, dilation=1, ceil_mode=False)\n",
              "    (5): Dropout2d(p=0.2, inplace=False)\n",
              "    (6): BatchNorm2d(16, eps=1e-05, momentum=0.1, affine=True, track_running_stats=True)\n",
              "    (7): Conv2d(16, 32, kernel_size=(3, 3), stride=(1, 1), padding=(1, 1))\n",
              "    (8): ReLU()\n",
              "    (9): Conv2d(32, 32, kernel_size=(3, 3), stride=(1, 1), padding=(1, 1))\n",
              "    (10): ReLU()\n",
              "    (11): MaxPool2d(kernel_size=2, stride=2, padding=0, dilation=1, ceil_mode=False)\n",
              "    (12): Dropout2d(p=0.2, inplace=False)\n",
              "    (13): BatchNorm2d(32, eps=1e-05, momentum=0.1, affine=True, track_running_stats=True)\n",
              "  )\n",
              "  (fc): Sequential(\n",
              "    (0): Flatten(start_dim=1, end_dim=-1)\n",
              "    (1): Linear(in_features=2048, out_features=10, bias=True)\n",
              "  )\n",
              ")"
            ]
          },
          "metadata": {},
          "execution_count": 120
        }
      ]
    },
    {
      "cell_type": "code",
      "source": [
        "criterion = nn.CrossEntropyLoss().to(device)\n",
        "optimizer = torch.optim.Adam(net.parameters(), lr=1e-4)"
      ],
      "metadata": {
        "id": "k8QWjmVgRY7f"
      },
      "execution_count": null,
      "outputs": []
    },
    {
      "cell_type": "code",
      "source": [
        "def train_epoch(net: nn.Module, criterion: nn.Module, optimizer: torch.optim.Optimizer, dataloader: torch.utils.data.DataLoader):\n",
        "    epoch_loss = 0\n",
        "    epoch_true = 0\n",
        "    epoch_all = 0\n",
        "    i = 0\n",
        "\n",
        "    # Set model to training mode\n",
        "    net.train()\n",
        "\n",
        "    # zero the parameter gradients\n",
        "    optimizer.zero_grad()\n",
        "\n",
        "    with tqdm.tqdm(enumerate(dataloader), total=len(dataloader)) as pbar:\n",
        "        for i, (x, y) in pbar: \n",
        "\n",
        "            # Transfer data to device\n",
        "            x = x.to(device)  \n",
        "            y = y.to(device)\n",
        "\n",
        "            # forward\n",
        "            p = net(x)\n",
        "\n",
        "            # loss eval\n",
        "            loss = criterion(p, y)\n",
        "            epoch_loss += float(loss)\n",
        "\n",
        "            # predict \n",
        "            predictions = p.argmax(-1)\n",
        "            epoch_all += len(predictions)\n",
        "            epoch_true += (predictions == y).sum()\n",
        "            \n",
        "            # Computes accuracy and loss\n",
        "            pbar.set_description(f'Loss: {epoch_loss / (i + 1):.3e} - Acc: {epoch_true * 100. / epoch_all:.2f}%')\n",
        "\n",
        "            # Backward the error\n",
        "            loss.backward()\n",
        "            optimizer.step()\n",
        "\n",
        "            # zero the parameter gradients\n",
        "            optimizer.zero_grad()"
      ],
      "metadata": {
        "id": "OtIfZ2F1RcA3"
      },
      "execution_count": null,
      "outputs": []
    },
    {
      "cell_type": "code",
      "source": [
        "def eval_epoch(net: nn.Module, criterion: nn.Module, dataloader: torch.utils.data.DataLoader):\n",
        "    epoch_loss = 0\n",
        "    epoch_true = 0\n",
        "    epoch_all = 0\n",
        "    i = 0\n",
        "\n",
        "    # Set model to evaluate mode\n",
        "    net.eval()\n",
        "\n",
        "    with torch.no_grad(), tqdm.tqdm(enumerate(dataloader), total=len(dataloader)) as pbar:\n",
        "        for i, (x, y) in pbar:\n",
        "\n",
        "            # Transfer data to device\n",
        "            x = x.to(device)\n",
        "            y = y.to(device)\n",
        "\n",
        "            # forward\n",
        "            p = net(x)\n",
        "\n",
        "            # loss eval\n",
        "            loss = criterion(p, y)\n",
        "            epoch_loss += float(loss)\n",
        "\n",
        "            # predict \n",
        "            predictions = p.argmax(-1)\n",
        "            epoch_all += len(predictions)\n",
        "            epoch_true += (predictions == y).sum()\n",
        "\n",
        "            # Computes accuracy and loss\n",
        "            pbar.set_description(f'Loss: {epoch_loss / (i + 1):.3e} - Acc: {epoch_true * 100. / epoch_all:.2f}%')"
      ],
      "metadata": {
        "id": "Xafulv-QRdUn"
      },
      "execution_count": null,
      "outputs": []
    },
    {
      "cell_type": "code",
      "source": [
        "epochs = 10\n",
        "\n",
        "for e in range(epochs):\n",
        "\n",
        "    start_time = time()\n",
        "\n",
        "    train_epoch(net, criterion, optimizer, trainloader)\n",
        "    eval_epoch(net, criterion, valloader)\n",
        "\n",
        "    end_time = time()\n",
        "\n",
        "    print(f'Epoch {e+1:3} finished in {end_time - start_time:.2f}s')"
      ],
      "metadata": {
        "colab": {
          "base_uri": "https://localhost:8080/"
        },
        "id": "uRyozqmkRgWf",
        "outputId": "d2403667-7b34-4bcd-80e5-f4cd64afac4a"
      },
      "execution_count": null,
      "outputs": [
        {
          "output_type": "stream",
          "name": "stderr",
          "text": [
            "Loss: 1.976e+00 - Acc: 28.32%: 100%|██████████| 176/176 [01:06<00:00,  2.63it/s]\n",
            "Loss: 1.719e+00 - Acc: 39.18%: 100%|██████████| 5/5 [00:03<00:00,  1.41it/s]"
          ]
        },
        {
          "output_type": "stream",
          "name": "stdout",
          "text": [
            "Epoch   1 finished in 70.57s\n"
          ]
        },
        {
          "output_type": "stream",
          "name": "stderr",
          "text": [
            "\n",
            "Loss: 1.688e+00 - Acc: 39.51%: 100%|██████████| 176/176 [01:08<00:00,  2.59it/s]\n",
            "Loss: 1.564e+00 - Acc: 45.60%: 100%|██████████| 5/5 [00:03<00:00,  1.40it/s]"
          ]
        },
        {
          "output_type": "stream",
          "name": "stdout",
          "text": [
            "Epoch   2 finished in 71.73s\n"
          ]
        },
        {
          "output_type": "stream",
          "name": "stderr",
          "text": [
            "\n",
            "Loss: 1.562e+00 - Acc: 44.39%: 100%|██████████| 176/176 [01:06<00:00,  2.66it/s]\n",
            "Loss: 1.454e+00 - Acc: 49.18%: 100%|██████████| 5/5 [00:03<00:00,  1.41it/s]"
          ]
        },
        {
          "output_type": "stream",
          "name": "stdout",
          "text": [
            "Epoch   3 finished in 69.95s\n"
          ]
        },
        {
          "output_type": "stream",
          "name": "stderr",
          "text": [
            "\n",
            "Loss: 1.483e+00 - Acc: 47.20%: 100%|██████████| 176/176 [01:06<00:00,  2.66it/s]\n",
            "Loss: 1.398e+00 - Acc: 51.26%: 100%|██████████| 5/5 [00:03<00:00,  1.42it/s]"
          ]
        },
        {
          "output_type": "stream",
          "name": "stdout",
          "text": [
            "Epoch   4 finished in 69.90s\n"
          ]
        },
        {
          "output_type": "stream",
          "name": "stderr",
          "text": [
            "\n",
            "Loss: 1.424e+00 - Acc: 49.57%: 100%|██████████| 176/176 [01:06<00:00,  2.65it/s]\n",
            "Loss: 1.341e+00 - Acc: 53.80%: 100%|██████████| 5/5 [00:03<00:00,  1.41it/s]"
          ]
        },
        {
          "output_type": "stream",
          "name": "stdout",
          "text": [
            "Epoch   5 finished in 70.13s\n"
          ]
        },
        {
          "output_type": "stream",
          "name": "stderr",
          "text": [
            "\n",
            "Loss: 1.376e+00 - Acc: 51.01%: 100%|██████████| 176/176 [01:07<00:00,  2.61it/s]\n",
            "Loss: 1.291e+00 - Acc: 55.44%: 100%|██████████| 5/5 [00:03<00:00,  1.43it/s]"
          ]
        },
        {
          "output_type": "stream",
          "name": "stdout",
          "text": [
            "Epoch   6 finished in 70.99s\n"
          ]
        },
        {
          "output_type": "stream",
          "name": "stderr",
          "text": [
            "\n",
            "Loss: 1.336e+00 - Acc: 52.64%: 100%|██████████| 176/176 [01:06<00:00,  2.64it/s]\n",
            "Loss: 1.268e+00 - Acc: 56.04%: 100%|██████████| 5/5 [00:03<00:00,  1.41it/s]"
          ]
        },
        {
          "output_type": "stream",
          "name": "stdout",
          "text": [
            "Epoch   7 finished in 70.29s\n"
          ]
        },
        {
          "output_type": "stream",
          "name": "stderr",
          "text": [
            "\n",
            "Loss: 1.295e+00 - Acc: 54.20%: 100%|██████████| 176/176 [01:06<00:00,  2.64it/s]\n",
            "Loss: 1.224e+00 - Acc: 57.66%: 100%|██████████| 5/5 [00:03<00:00,  1.44it/s]"
          ]
        },
        {
          "output_type": "stream",
          "name": "stdout",
          "text": [
            "Epoch   8 finished in 70.28s\n"
          ]
        },
        {
          "output_type": "stream",
          "name": "stderr",
          "text": [
            "\n",
            "Loss: 1.266e+00 - Acc: 55.28%: 100%|██████████| 176/176 [01:06<00:00,  2.65it/s]\n",
            "Loss: 1.198e+00 - Acc: 58.08%: 100%|██████████| 5/5 [00:03<00:00,  1.43it/s]"
          ]
        },
        {
          "output_type": "stream",
          "name": "stdout",
          "text": [
            "Epoch   9 finished in 69.95s\n"
          ]
        },
        {
          "output_type": "stream",
          "name": "stderr",
          "text": [
            "\n",
            "Loss: 1.234e+00 - Acc: 56.52%: 100%|██████████| 176/176 [01:07<00:00,  2.61it/s]\n",
            "Loss: 1.175e+00 - Acc: 58.70%: 100%|██████████| 5/5 [00:03<00:00,  1.42it/s]"
          ]
        },
        {
          "output_type": "stream",
          "name": "stdout",
          "text": [
            "Epoch  10 finished in 71.05s\n"
          ]
        },
        {
          "output_type": "stream",
          "name": "stderr",
          "text": [
            "\n"
          ]
        }
      ]
    },
    {
      "cell_type": "code",
      "source": [
        "torch.save(net.state_dict(), 'cifar10net.pth')"
      ],
      "metadata": {
        "id": "JD-pgfCASbo5"
      },
      "execution_count": null,
      "outputs": []
    },
    {
      "cell_type": "code",
      "source": [
        "eval_epoch(net, criterion, testloader)"
      ],
      "metadata": {
        "colab": {
          "base_uri": "https://localhost:8080/"
        },
        "id": "3NX6cV2pSdoP",
        "outputId": "53fcb79a-f3a9-4a3e-c540-adea4435dd5d"
      },
      "execution_count": null,
      "outputs": [
        {
          "output_type": "stream",
          "name": "stderr",
          "text": [
            "Loss: 1.159e+00 - Acc: 59.72%: 100%|██████████| 10/10 [00:07<00:00,  1.35it/s]\n"
          ]
        }
      ]
    },
    {
      "cell_type": "markdown",
      "source": [
        "# Experiment Tracking\n",
        "\n",
        "The process of setup is trivial. First sign-up for an account [here](https://neptune.ai/register), this will create a unique ID and dashboard where you can see all your experiments. You can always add your team members and collaborate on experiments. Follow [these steps](https://docs.neptune.ai/getting-started/installation) to get your unique id (to be used while setup)."
      ],
      "metadata": {
        "id": "99voMANsbR2V"
      }
    },
    {
      "cell_type": "markdown",
      "source": [
        "# Some useful links\n",
        "\n",
        "\n",
        "\n",
        "1.   [LEARN THE BASICS](https://pytorch.org/tutorials/beginner/basics/intro.html)\n",
        "2.   [Machine Learning Mastery](https://machinelearningmastery.com/)\n",
        "3.   [MODELS AND PRE-TRAINED WEIGHTS](https://pytorch.org/vision/stable/models.html)\n",
        "4.   [TRANSFER LEARNING FOR COMPUTER VISION TUTORIAL](https://pytorch.org/tutorials/beginner/transfer_learning_tutorial.html)\n",
        "5.   [DEEP LEARNING WITH PYTORCH: A 60 MINUTE BLITZ](https://pytorch.org/tutorials/intermediate/torchvision_tutorial.html)\n",
        "6.  [TORCHVISION OBJECT DETECTION FINETUNING TUTORIAL](https://pytorch.org/tutorials/intermediate/torchvision_tutorial.html)\n",
        "\n"
      ],
      "metadata": {
        "id": "L3GueanGOSoy"
      }
    }
  ]
}