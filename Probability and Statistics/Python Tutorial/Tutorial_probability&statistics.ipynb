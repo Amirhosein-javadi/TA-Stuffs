{
  "nbformat": 4,
  "nbformat_minor": 0,
  "metadata": {
    "colab": {
      "name": "Tutorial_probability&statistics.ipynb",
      "provenance": [],
      "collapsed_sections": []
    },
    "kernelspec": {
      "name": "python3",
      "display_name": "Python 3"
    },
    "language_info": {
      "name": "python"
    }
  },
  "cells": [
    {
      "cell_type": "markdown",
      "metadata": {
        "id": "qbMZZK2qWaUS"
      },
      "source": [
        "**A Short Python Headstart**\n",
        "\n",
        "This tutorial is written for students who have very little experience with Python, and only aims to tell you what specific tools you will need for this course, we will not go any further.\n",
        "\n",
        "An outline will be:\n",
        "1. A very general introduction and basic operations\n",
        "2. Control Flow Tools\n",
        "3. Data Structures\n",
        "4. Imports\n",
        "5. Functions\n",
        "6. Figures\n",
        "7. Random variable"
      ]
    },
    {
      "cell_type": "markdown",
      "metadata": {
        "id": "4XJavZ__cVYQ"
      },
      "source": [
        "**1. A very general introduction and basic operations**\n",
        "\n",
        "\n",
        "---\n",
        "\n",
        "\n",
        "\n",
        "**1.1. Numbers**\n",
        "\n",
        "Python is a Dynamically-Typed language, i.e. the type of variables are evaluated during runtime, therefore declaring a variable is basically it's first assignment:"
      ]
    },
    {
      "cell_type": "code",
      "metadata": {
        "id": "NM7qOlzSWVIG"
      },
      "source": [
        "a = 5\n",
        "b = 1.5\n",
        "c = 0x100\n",
        "d = 3+5j\n",
        "e,f = 15,16"
      ],
      "execution_count": null,
      "outputs": []
    },
    {
      "cell_type": "markdown",
      "metadata": {
        "id": "St7Q03xSccg7"
      },
      "source": [
        "You can use 'type()' to check what kind of variable you are dealing with, here you can also see me using 'print' to print it's value:"
      ]
    },
    {
      "cell_type": "code",
      "metadata": {
        "id": "fqcZ-wrycc3k"
      },
      "source": [
        "print(type(a))\n",
        "print(type(b))\n",
        "print(type(c))\n",
        "print(type(d))"
      ],
      "execution_count": null,
      "outputs": []
    },
    {
      "cell_type": "markdown",
      "metadata": {
        "id": "A5V561h2ePPE"
      },
      "source": [
        ""
      ]
    },
    {
      "cell_type": "code",
      "metadata": {
        "id": "Ex6zBndBePmh"
      },
      "source": [
        "print(2 + 2)\n",
        "print(50 - 5*6)\n",
        "print(8 / 5)    # division always returns a floating point number\n",
        "print(8 // 5)   # floor division discards the fractional part\n",
        "print(8 % 5)    # the % operator returns the remainder of the division\n",
        "print(2 ** 7)   # 2 to the power of 7"
      ],
      "execution_count": null,
      "outputs": []
    },
    {
      "cell_type": "markdown",
      "metadata": {
        "id": "eTE8F6aZgps0"
      },
      "source": [
        "**1.2. Strings**\n",
        "\n",
        "Strings can be enclosed in single quotes ('...') or double quotes (\"...\"). \n",
        "\n",
        "\\ can be used to escape quotes"
      ]
    },
    {
      "cell_type": "code",
      "metadata": {
        "id": "OETeYlj3hD_1"
      },
      "source": [
        "print('Hello world!')  # single quotes\n",
        "print(\"Hello world!\")  # double quotes\n",
        "print('It\\'s Amir!') # use \\' to escape the single quote\n",
        "print(\"It's Amir!\")  # or use double quotes instead"
      ],
      "execution_count": null,
      "outputs": []
    },
    {
      "cell_type": "markdown",
      "metadata": {
        "id": "CIncvE98mbRE"
      },
      "source": [
        "**backslash**\n",
        "\n",
        "In Python strings, the backslash \"\\\" is a special character, also called the \"escape\" character. "
      ]
    },
    {
      "cell_type": "code",
      "metadata": {
        "id": "jzePDKNymZx0"
      },
      "source": [
        "print('First line.\\nSecond line.') # \\n means newline\n",
        "print('First word.\\tSecond word.') # \\t means tab"
      ],
      "execution_count": null,
      "outputs": []
    },
    {
      "cell_type": "markdown",
      "metadata": {
        "id": "w2NepS-cnsZe"
      },
      "source": [
        "**Concatenating strings**"
      ]
    },
    {
      "cell_type": "code",
      "metadata": {
        "id": "KbI9aOwnn129"
      },
      "source": [
        "print(2*'cu'+ 'mber ' + 'should be well sliced, dressed with pepper and vinegar, and then thrown out.' + '\\t' + '(samuel johnson)')"
      ],
      "execution_count": null,
      "outputs": []
    },
    {
      "cell_type": "markdown",
      "metadata": {
        "id": "YPLRwKX3tK1H"
      },
      "source": [
        "**indexing**\n",
        "\n",
        "Strings can be indexed (subscripted), with the first character having index 0. \n",
        "\n",
        "There is no separate character type; a character is simply a string of size one\n",
        "\n",
        "The built-in function len() returns the length of a string"
      ]
    },
    {
      "cell_type": "code",
      "metadata": {
        "id": "t49OkxyAtLtu"
      },
      "source": [
        "word = 'probability and statistics'\n",
        "print(word[0])\n",
        "print(word[0:11])\n",
        "print(word[-1])\n",
        "print(word[-5:])\n",
        "print(len(word))"
      ],
      "execution_count": null,
      "outputs": []
    },
    {
      "cell_type": "markdown",
      "metadata": {
        "id": "LX3hvWU3vDQe"
      },
      "source": [
        "Python strings cannot be changed — they are immutable. "
      ]
    },
    {
      "cell_type": "code",
      "metadata": {
        "id": "3bsl3L_TvB-n"
      },
      "source": [
        "word[0] = 'J'"
      ],
      "execution_count": null,
      "outputs": []
    },
    {
      "cell_type": "code",
      "metadata": {
        "id": "67_IWTVG0LQU"
      },
      "source": [
        "a = 1989\n",
        "print(f'It\\'s {a}!')\n",
        "print(\"It's\",a,'!')\n",
        "print(\"It's %d!\" %(a))\n",
        "print(\"It's {}!\".format(a))"
      ],
      "execution_count": null,
      "outputs": []
    },
    {
      "cell_type": "markdown",
      "metadata": {
        "id": "pmtJ22xV5033"
      },
      "source": [
        "**2. Control Flow Tools**\n",
        "\n",
        "Python supports the usual logical conditions from mathematics:\n",
        "\n",
        "*   Equals: a == b\n",
        "*   Not Equals: a != b\n",
        "*   Less than: a < b\n",
        "*   Less than or equal to: a <= b\n",
        "*   Greater than: a > b\n",
        "*   Greater than or equal to: a >= b\n",
        "\n",
        "\n",
        "---\n",
        "\n",
        "\n",
        "**2.1 If Statements**\n",
        "\n",
        "\n",
        "*   if\n",
        "*   elif\n",
        "*   else"
      ]
    },
    {
      "cell_type": "code",
      "metadata": {
        "id": "R02pKHIF7O3S"
      },
      "source": [
        "a = 1\n",
        "b = 2\n",
        "if b > a:\n",
        "  print(\"b is greater than a\")\n",
        "elif a == b:\n",
        "  print(\"a and b are equal\")\n",
        "else:\n",
        "  print(\"a is greater than b\")"
      ],
      "execution_count": null,
      "outputs": []
    },
    {
      "cell_type": "markdown",
      "metadata": {
        "id": "WYXkGCVu8tAx"
      },
      "source": [
        "**And, Or, Not**\n"
      ]
    },
    {
      "cell_type": "code",
      "metadata": {
        "id": "21nL5A4_7z_n"
      },
      "source": [
        "state1 = True\n",
        "state2 = False\n",
        "if state1 and state2:\n",
        "  print(\"Both conditions are True\")\n",
        "elif state1 or state2:\n",
        "  print(\"At least one of the conditions is True\")\n",
        "else:\n",
        "  print(\"Both conditions are False\")\n",
        "\n",
        "print(not(state2))"
      ],
      "execution_count": null,
      "outputs": []
    },
    {
      "cell_type": "markdown",
      "metadata": {
        "id": "jtEy5kZQ9oEy"
      },
      "source": [
        "**2.2. For Statements** "
      ]
    },
    {
      "cell_type": "code",
      "metadata": {
        "id": "ap3fach37om4"
      },
      "source": [
        "fruits = [\"apple\", \"banana\", \"cherry\"]\n",
        "for x in fruits:\n",
        "  if x == \"banana\":\n",
        "    break\n",
        "  print(x)"
      ],
      "execution_count": null,
      "outputs": []
    },
    {
      "cell_type": "code",
      "metadata": {
        "id": "t7hJm7KZ-h-o"
      },
      "source": [
        "for x in fruits:\n",
        "  if x == \"banana\":\n",
        "    continue\n",
        "  print(x)"
      ],
      "execution_count": null,
      "outputs": []
    },
    {
      "cell_type": "code",
      "metadata": {
        "id": "jnZrr8C3-LQA"
      },
      "source": [
        "for x in \"banana\":\n",
        "  print(x)"
      ],
      "execution_count": null,
      "outputs": []
    },
    {
      "cell_type": "code",
      "metadata": {
        "id": "QjezCTYh-uwP"
      },
      "source": [
        "for x in range(6): #start = 0\n",
        "  print(x)"
      ],
      "execution_count": null,
      "outputs": []
    },
    {
      "cell_type": "code",
      "metadata": {
        "id": "SnWX5k_F-08H"
      },
      "source": [
        "for x in range(2, 30, 3): # start,finish,step\n",
        "  print(x)"
      ],
      "execution_count": null,
      "outputs": []
    },
    {
      "cell_type": "code",
      "metadata": {
        "colab": {
          "base_uri": "https://localhost:8080/"
        },
        "id": "DQZVUse2_LMQ",
        "outputId": "0c66a8ec-2e42-4182-a722-fedf6212d73f"
      },
      "source": [
        "myrange = range(1,11)\n",
        "print(myrange)\n",
        "print(type(myrange))\n",
        "mylist = list(myrange)\n",
        "print(mylist)\n",
        "print(type(mylist))"
      ],
      "execution_count": null,
      "outputs": [
        {
          "output_type": "stream",
          "name": "stdout",
          "text": [
            "range(1, 11)\n",
            "<class 'range'>\n",
            "[1, 2, 3, 4, 5, 6, 7, 8, 9, 10]\n",
            "<class 'list'>\n"
          ]
        }
      ]
    },
    {
      "cell_type": "markdown",
      "metadata": {
        "id": "GlLT62DsALmc"
      },
      "source": [
        "**2.3. While Loops**"
      ]
    },
    {
      "cell_type": "code",
      "metadata": {
        "id": "0PALIkfSlTZy"
      },
      "source": [
        "i = 0\n",
        "while i < 6:\n",
        "  i += 1\n",
        "  if i == 3:\n",
        "    continue\n",
        "  print(i)"
      ],
      "execution_count": null,
      "outputs": []
    },
    {
      "cell_type": "markdown",
      "metadata": {
        "id": "vZVSgw1RmDr0"
      },
      "source": [
        "**3. Data Structures**\n",
        "\n",
        "\n",
        "---\n",
        "\n",
        "\n",
        "**3.1. Lists**\n",
        "\n",
        "Lists are used to store multiple items in a single variable.\n",
        "\n",
        "Lists are created using square brackets\n",
        "\n",
        "Lists are ordered, it means that the items have a defined order, and that order will not change.\n",
        "\n",
        "If you add new items to a list, the new items will be placed at the end of the list."
      ]
    },
    {
      "cell_type": "code",
      "metadata": {
        "id": "q09Xl-EBsFFW"
      },
      "source": [
        "mylist = [\"apple\", \"banana\", \"cherry\"]\n",
        "print(mylist)\n",
        "print(type(mylist))\n",
        "print(len(mylist))\n",
        "mylist.append(\"cucumber\") \n",
        "print(mylist)\n",
        "mylist[2] = 'orange'\n",
        "print(mylist)\n",
        "mylist[-1] = 1\n",
        "print(mylist)\n",
        "yourlist = ['taxi','bus','train']\n",
        "ourlist = [mylist,yourlist]\n",
        "print(ourlist)\n",
        "print(ourlist[1])\n",
        "print(ourlist[1][2])"
      ],
      "execution_count": null,
      "outputs": []
    },
    {
      "cell_type": "markdown",
      "metadata": {
        "id": "BQ9XvX6ksT2e"
      },
      "source": [
        "The list data type has some methods: \n",
        "\n",
        "*   append\n",
        "*   extend\n",
        "*   insert\n",
        "*   index\n",
        "*   remove\n",
        "*   pop\n",
        "*   clear\n",
        "*   count\n",
        "*   sort\n",
        "*   reverse\n",
        "*   copy\n",
        "*   del"
      ]
    },
    {
      "cell_type": "code",
      "metadata": {
        "id": "7EAlL7J7mkQb"
      },
      "source": [
        "mylist = ['orange', 'apple', 'pear', 'banana', 'kiwi', 'apple', 'banana']\n",
        "print(mylist.count('apple')) # Return the number of times x appears in the list.\n",
        "print(mylist.index('banana')) # Return index in the list of the first item whose value is equal to x.\n",
        "print(mylist.index('banana', 4))  # Find next banana starting a position 4\n",
        "mylist.reverse() # Reverse the elements of the list in place.\n",
        "print(mylist) \n",
        "mylist.append('grape') # Add an item to the end of the list.\n",
        "print(mylist) \n",
        "mylist.sort() # Sort the items of the list in place\n",
        "print(mylist)\n",
        "mylist.pop() # Remove the item at the given position in the list, and return it. If no index is specified, a.pop() removes and returns the last item in the list.\n",
        "print(mylist)\n",
        "mylist.remove('banana') # Remove the first item from the list whose value is equal to x\n",
        "print(mylist)"
      ],
      "execution_count": null,
      "outputs": []
    },
    {
      "cell_type": "code",
      "metadata": {
        "id": "cYjZwMtr2xcd"
      },
      "source": [
        "list1 = [1,2,3]\n",
        "list2 = list1\n",
        "list2.reverse()\n",
        "print(list1)\n",
        "list1 = [1,2,3]\n",
        "list2 = list1.copy()\n",
        "list2.reverse()\n",
        "print(list1)"
      ],
      "execution_count": null,
      "outputs": []
    },
    {
      "cell_type": "markdown",
      "metadata": {
        "id": "9X7lLsYJpyJM"
      },
      "source": [
        "**3.2. Tuples**\n",
        "\n",
        "A tuple consists of a number of values separated by commas.\n",
        "\n",
        "Tuples are always enclosed in parentheses.\n",
        "\n",
        "Tuples may seem similar to lists.\n",
        "\n",
        "Tuples are immutable, Lists are mutable.\n",
        "\n",
        "\n"
      ]
    },
    {
      "cell_type": "code",
      "metadata": {
        "id": "hNphAuPcqa3U"
      },
      "source": [
        "Mytuple = 'a', 20, True\n",
        "print(Mytuple)\n",
        "print(3 * Mytuple)\n",
        "print(type(Mytuple))\n",
        "print(len(Mytuple))\n",
        "\n",
        "Mylist = list(Mytuple)\n",
        "print(Mylist)\n",
        "print(type(Mylist))"
      ],
      "execution_count": null,
      "outputs": []
    },
    {
      "cell_type": "code",
      "metadata": {
        "id": "KWrVybKWrssT"
      },
      "source": [
        "Mylist[0] = 'b'\n",
        "print(Mylist)"
      ],
      "execution_count": null,
      "outputs": []
    },
    {
      "cell_type": "code",
      "metadata": {
        "id": "onJb1w1lroYL"
      },
      "source": [
        "Mytuple[0] = 'b'"
      ],
      "execution_count": null,
      "outputs": []
    },
    {
      "cell_type": "markdown",
      "metadata": {
        "id": "tjhVPlo9r4r8"
      },
      "source": [
        "**3.3. Sets**\n",
        "\n",
        "A set is an unordered collection with no duplicate elements.\n",
        "\n",
        "Tuples are always enclosed in bracket."
      ]
    },
    {
      "cell_type": "code",
      "metadata": {
        "id": "pbDz8KmGslOM"
      },
      "source": [
        "Myset = {'apple', 'orange', 'apple', 'pear', 'orange', 'banana'}\n",
        "print(Myset) # duplicates have been removed\n",
        "print(type(Myset))\n",
        "print(len(Myset))"
      ],
      "execution_count": null,
      "outputs": []
    },
    {
      "cell_type": "code",
      "metadata": {
        "id": "gj6ENYEbs26U"
      },
      "source": [
        "a = set('probability ')\n",
        "b = set('statistics')\n",
        "\n",
        "print(a)\n",
        "print(b)\n",
        "print(a-b)  # Difference\n",
        "print(a|b)  # Union\n",
        "print(a&b)  # Intersection\n",
        "print(a^b)  # Symmetric difference"
      ],
      "execution_count": null,
      "outputs": []
    },
    {
      "cell_type": "markdown",
      "metadata": {
        "id": "xhYypWSYueW_"
      },
      "source": [
        "**3.4. Dictionaries**\n",
        "\n",
        "A dictionary as a set of *key: value* pairs, with the requirement that the keys are unique.\n",
        "\n",
        "The main operations on a dictionary are storing a value with some key and extracting the value given the key.\n",
        "\n",
        "Dictionaries are written with curly brackets, and have keys and values:"
      ]
    },
    {
      "cell_type": "code",
      "metadata": {
        "id": "8yERawV_vQEe"
      },
      "source": [
        "grades = {'student 1': 20, 'student 2': 17, 'student 3': 15}\n",
        "print(grades)\n",
        "print(type(grades))\n",
        "print(len(grades))\n",
        "grades['student 1'] = 19\n",
        "print(grades)\n",
        "del grades['student 2']\n",
        "print(grades)\n",
        "grades['student 4'] = 20\n",
        "print(grades)\n",
        "print(sorted(grades)) # sorting keys\n",
        "print(grades.keys())\n",
        "print(grades.values())"
      ],
      "execution_count": null,
      "outputs": []
    },
    {
      "cell_type": "markdown",
      "metadata": {
        "id": "usIb5G-O6geW"
      },
      "source": [
        "**3.5. Arrays**"
      ]
    },
    {
      "cell_type": "code",
      "metadata": {
        "id": "zcBf8GMC6wsR"
      },
      "source": [
        "import numpy as np\n",
        "Myarray = np.array([\"Ford\", \"Volvo\", \"BMW\"])\n",
        "print(Myarray)\n",
        "print(type(Myarray))\n",
        "print(len(Myarray))"
      ],
      "execution_count": null,
      "outputs": []
    },
    {
      "cell_type": "code",
      "metadata": {
        "id": "pKwc8jHw7Oc_"
      },
      "source": [
        "A = np.zeros((3,2))\n",
        "print(A)\n",
        "print(np.size(A))\n",
        "print(np.size(A,axis=0))\n",
        "B = np.ones((2,3))\n",
        "print(B)\n",
        "print(3*B)"
      ],
      "execution_count": null,
      "outputs": []
    },
    {
      "cell_type": "markdown",
      "metadata": {
        "id": "FXJx6Hly9KeW"
      },
      "source": [
        "**reshaping and Transpose**"
      ]
    },
    {
      "cell_type": "code",
      "metadata": {
        "id": "BA61UBlB8V76"
      },
      "source": [
        "Myarray = np.arange(6)\n",
        "print(Myarray)\n",
        "Myarray_reshaped = Myarray.reshape(2,3)\n",
        "print(Myarray_reshaped)\n",
        "Myarray_reshaped_relaxed_form = Myarray.reshape(2,-1) \n",
        "print(Myarray_reshaped_relaxed_form)\n",
        "print(np.transpose(Myarray_reshaped)) \n",
        "print(Myarray_reshaped.T)"
      ],
      "execution_count": null,
      "outputs": []
    },
    {
      "cell_type": "markdown",
      "metadata": {
        "id": "zF8reIyH9QFR"
      },
      "source": [
        "**Multiplication**"
      ]
    },
    {
      "cell_type": "code",
      "metadata": {
        "id": "iHVfG53p9mha"
      },
      "source": [
        "# element wise multiplication\n",
        "a = np.array([[1,2,5,8],[5,6,7,10]])\n",
        "b = np.array([[6,3,1,2],[1,2,7,3]])\n",
        "c = a * b\n",
        "print(c) "
      ],
      "execution_count": null,
      "outputs": []
    },
    {
      "cell_type": "code",
      "metadata": {
        "id": "KBAycCZ396fm"
      },
      "source": [
        "# matrix multiplication\n",
        "d = np.matmul(a,b.T)\n",
        "print(d) "
      ],
      "execution_count": null,
      "outputs": []
    },
    {
      "cell_type": "markdown",
      "metadata": {
        "id": "pz2b1Srn-bsg"
      },
      "source": [
        "**concatenate**\n",
        "\n",
        "Join a sequence of arrays along an existing axis."
      ]
    },
    {
      "cell_type": "code",
      "metadata": {
        "id": "okUWgtJ2-gcP"
      },
      "source": [
        "e = np.concatenate((a, b),axis=0) \n",
        "print(e) "
      ],
      "execution_count": null,
      "outputs": []
    },
    {
      "cell_type": "markdown",
      "metadata": {
        "id": "MRECYl4bxHE8"
      },
      "source": [
        "**4. Imports**\n",
        "\n",
        "Import in python is similar to #include header_file in C/C++. Python modules can get access to code from another module by importing the file/function using import.\n",
        "\n",
        "*   import module_name \n",
        "*   import module_name.member_name \n",
        "*   import module_name as new_name\n",
        "\n"
      ]
    },
    {
      "cell_type": "code",
      "metadata": {
        "id": "XRrxMf6WyCrp"
      },
      "source": [
        "import math\n",
        "print(math.pi)"
      ],
      "execution_count": null,
      "outputs": []
    },
    {
      "cell_type": "code",
      "metadata": {
        "id": "QPeux8FYyGDN"
      },
      "source": [
        "from math import pi\n",
        "print(pi)"
      ],
      "execution_count": null,
      "outputs": []
    },
    {
      "cell_type": "code",
      "metadata": {
        "id": "fifaS6RWyV-3"
      },
      "source": [
        "import math as m\n",
        "print(m.pi)"
      ],
      "execution_count": null,
      "outputs": []
    },
    {
      "cell_type": "markdown",
      "metadata": {
        "id": "6jp27s-W2jkt"
      },
      "source": [
        "**5. Functions**\n",
        "\n",
        "The keyword def introduces a function definition. It must be followed by the function name and the parenthesized list of formal parameters. "
      ]
    },
    {
      "cell_type": "code",
      "metadata": {
        "id": "b6qcAESG3Zl1"
      },
      "source": [
        "def Myfunction():\n",
        "  print(\"Hello from a function\")\n",
        "\n",
        "Myfunction()"
      ],
      "execution_count": null,
      "outputs": []
    },
    {
      "cell_type": "code",
      "metadata": {
        "id": "HSuFnW8X35H1"
      },
      "source": [
        "def Myfunction(name):\n",
        "  print(\"Hello %s!\" %name)\n",
        "\n",
        "Myfunction('Tommy')"
      ],
      "execution_count": null,
      "outputs": []
    },
    {
      "cell_type": "code",
      "metadata": {
        "id": "d5OH3XdQ4PYt"
      },
      "source": [
        "# Default Argument Values\n",
        "def Myfunction(name='Arthur'):\n",
        "  print(\"Hello %s!\" %name)\n",
        "\n",
        "Myfunction('Tommy')\n",
        "Myfunction(name = 'Tommy') # Keyword Arguments\n",
        "Myfunction()"
      ],
      "execution_count": null,
      "outputs": []
    },
    {
      "cell_type": "code",
      "metadata": {
        "id": "YzsaitGW4qY9"
      },
      "source": [
        "# If the number of arguments is unknown, add a * before the parameter name\n",
        "def Myfunction(*name):\n",
        "  print(\"Hello %s!\" %name[-1])\n",
        "\n",
        "Myfunction(\"Tommy\", \"Arthur\", \"John\", \"Ada\")"
      ],
      "execution_count": null,
      "outputs": []
    },
    {
      "cell_type": "code",
      "metadata": {
        "id": "BwjVNOin5YWR"
      },
      "source": [
        "# If the number of keyword arguments is unknown, add a double ** before the parameter name:\n",
        "def Myfunction(**person):\n",
        "  print(\"His last name is \" + person[\"lname\"] + '.')\n",
        "\n",
        "Myfunction(fname = \"Tommy\", lname = \"Shelby\")"
      ],
      "execution_count": null,
      "outputs": []
    },
    {
      "cell_type": "markdown",
      "metadata": {
        "id": "Hw5D6G2c6W6s"
      },
      "source": [
        "**6. Figures**\n",
        "\n",
        "Matplotlib is a comprehensive library for creating static, animated, and interactive visualizations in Python."
      ]
    },
    {
      "cell_type": "code",
      "metadata": {
        "id": "9dopI1EFc0-9"
      },
      "source": [
        "import matplotlib.pyplot as plt\n",
        "\n",
        "data = {'apple': 10, 'orange': 15, 'lemon': 5, 'lime': 20}\n",
        "x_val = range(1,11)\n",
        "y_val = np.array(range(1,11))**2\n",
        "\n",
        "fig, axs = plt.subplots(1, 3, figsize=(15, 6))\n",
        "axs[0].bar(x_val, y_val)\n",
        "axs[1].scatter(x_val, y_val)\n",
        "axs[2].plot(x_val, y_val)\n",
        "\n",
        "axs[1].grid(color='red', linestyle=':', linewidth=1) #  linestyle = '-', '--', '-.', ':', 'None', ' ', '', 'solid', 'dashed', 'dashdot', 'dotted'\n",
        "axs[2].grid(color='green', linestyle='--', linewidth=.5)\n",
        "\n",
        "fig.suptitle('Categorical Plotting')\n"
      ],
      "execution_count": null,
      "outputs": []
    },
    {
      "cell_type": "code",
      "metadata": {
        "id": "dE9rwYJIfy_L"
      },
      "source": [
        "import matplotlib.axes as plt_axes\n",
        "labels = ['G1', 'G2', 'G3', 'G4', 'G5']\n",
        "men_means = [20, 34, 30, 35, 27]\n",
        "women_means = [25, 32, 34, 20, 25]\n",
        "\n",
        "x = np.arange(len(labels))\n",
        "width = 0.35\n",
        "\n",
        "fig, ax = plt.subplots()\n",
        "rects1 = ax.bar(x - width/2, men_means, width, label='Men')\n",
        "rects2 = ax.bar(x + width/2, women_means, width, label='Women')\n",
        "\n",
        "ax.set_ylabel('Scores')\n",
        "ax.set_title('Scores by group and gender') # Set title\n",
        "ax.set_xticklabels(labels) # Set the xaxis' labels with list of string labels.\n",
        "ax.legend() # Place a legend on the Axes.\n",
        "\n",
        "fig.tight_layout()\n",
        "plt.savefig('Myplt.jpg') # saving a plot \n",
        "plt.show()"
      ],
      "execution_count": null,
      "outputs": []
    },
    {
      "cell_type": "markdown",
      "metadata": {
        "id": "9SM--H84k6_9"
      },
      "source": [
        "**7. Random variable**\n",
        "\n",
        "This module implements pseudo-random number generators for various distributions."
      ]
    },
    {
      "cell_type": "code",
      "metadata": {
        "id": "8jHzyw-2lT0D"
      },
      "source": [
        "import random\n",
        "import numpy as np \n",
        "\n",
        "print(random.random())    # Return random number between 0.0 and 1.0:\n",
        "print(random.randint(1, 9))  # The randint() method returns an integer number selected element from the specified range.\n",
        "print(random.getrandbits(8)) # The getrandbits() method returns an integer in the specified size (in bits).\n",
        "print(np.random.rand(3,2))\n",
        "\n",
        "mylist = [\"apple\", \"banana\", \"cherry\"]\n",
        "random.shuffle(mylist)\n",
        "print(mylist)"
      ],
      "execution_count": null,
      "outputs": []
    },
    {
      "cell_type": "markdown",
      "metadata": {
        "id": "EKpHTLBSbAuq"
      },
      "source": [
        "For more I recommend : \n",
        "\n",
        "1.   docs.python.org\n",
        "2.   geeksforgeeks\n",
        "\n"
      ]
    }
  ]
}